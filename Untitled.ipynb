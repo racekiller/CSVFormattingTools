{
 "cells": [
  {
   "cell_type": "code",
   "execution_count": 24,
   "metadata": {
    "collapsed": true
   },
   "outputs": [],
   "source": [
    "from io import StringIO\n",
    "import pandas as pd\n",
    "\n",
    "data = '''DATETIME|test 1|test 2\n",
    "DESCRIPTION|DESCRIPTION|DESCRIPTION\n",
    "1/01/2015 00:00:00|100|200'''\n",
    "\n",
    "df = pd.read_table(StringIO(data), sep=\"|\")\n",
    "\n",
    "df1 = df[0:1]        # FIRST ROW\n",
    "df2 = df[1:len(df)]  # SECOND TO LAST ROW"
   ]
  },
  {
   "cell_type": "code",
   "execution_count": 25,
   "metadata": {
    "collapsed": false
   },
   "outputs": [
    {
     "data": {
      "text/html": [
       "<div>\n",
       "<table border=\"1\" class=\"dataframe\">\n",
       "  <thead>\n",
       "    <tr style=\"text-align: right;\">\n",
       "      <th></th>\n",
       "      <th>DATETIME</th>\n",
       "      <th>test 1</th>\n",
       "      <th>test 2</th>\n",
       "    </tr>\n",
       "  </thead>\n",
       "  <tbody>\n",
       "    <tr>\n",
       "      <th>0</th>\n",
       "      <td>DESCRIPTION</td>\n",
       "      <td>DESCRIPTION</td>\n",
       "      <td>DESCRIPTION</td>\n",
       "    </tr>\n",
       "  </tbody>\n",
       "</table>\n",
       "</div>"
      ],
      "text/plain": [
       "      DATETIME       test 1       test 2\n",
       "0  DESCRIPTION  DESCRIPTION  DESCRIPTION"
      ]
     },
     "execution_count": 25,
     "metadata": {},
     "output_type": "execute_result"
    }
   ],
   "source": [
    "df1"
   ]
  },
  {
   "cell_type": "code",
   "execution_count": 26,
   "metadata": {
    "collapsed": false
   },
   "outputs": [
    {
     "data": {
      "text/html": [
       "<div>\n",
       "<table border=\"1\" class=\"dataframe\">\n",
       "  <thead>\n",
       "    <tr style=\"text-align: right;\">\n",
       "      <th></th>\n",
       "      <th>DATETIME</th>\n",
       "      <th>test 1</th>\n",
       "      <th>test 2</th>\n",
       "    </tr>\n",
       "  </thead>\n",
       "  <tbody>\n",
       "    <tr>\n",
       "      <th>1</th>\n",
       "      <td>1/01/2015 00:00:00</td>\n",
       "      <td>100</td>\n",
       "      <td>200</td>\n",
       "    </tr>\n",
       "  </tbody>\n",
       "</table>\n",
       "</div>"
      ],
      "text/plain": [
       "             DATETIME test 1 test 2\n",
       "1  1/01/2015 00:00:00    100    200"
      ]
     },
     "execution_count": 26,
     "metadata": {},
     "output_type": "execute_result"
    }
   ],
   "source": [
    "df2"
   ]
  },
  {
   "cell_type": "code",
   "execution_count": 27,
   "metadata": {
    "collapsed": true
   },
   "outputs": [],
   "source": [
    "mdf = pd.merge(pd.melt(df1, id_vars=['DATETIME'], var_name='TAGNAME',\n",
    "                       value_name='DESCRIPTION')[['TAGNAME', 'DESCRIPTION']],\n",
    "               pd.melt(df2, id_vars=['DATETIME'], var_name='TAGNAME',\n",
    "                       value_name='VALUE'),\n",
    "               on=['TAGNAME'])"
   ]
  },
  {
   "cell_type": "code",
   "execution_count": 28,
   "metadata": {
    "collapsed": false
   },
   "outputs": [
    {
     "data": {
      "text/html": [
       "<div>\n",
       "<table border=\"1\" class=\"dataframe\">\n",
       "  <thead>\n",
       "    <tr style=\"text-align: right;\">\n",
       "      <th></th>\n",
       "      <th>TAGNAME</th>\n",
       "      <th>DESCRIPTION</th>\n",
       "      <th>DATETIME</th>\n",
       "      <th>VALUE</th>\n",
       "    </tr>\n",
       "  </thead>\n",
       "  <tbody>\n",
       "    <tr>\n",
       "      <th>0</th>\n",
       "      <td>test 1</td>\n",
       "      <td>DESCRIPTION</td>\n",
       "      <td>1/01/2015 00:00:00</td>\n",
       "      <td>100</td>\n",
       "    </tr>\n",
       "    <tr>\n",
       "      <th>1</th>\n",
       "      <td>test 2</td>\n",
       "      <td>DESCRIPTION</td>\n",
       "      <td>1/01/2015 00:00:00</td>\n",
       "      <td>200</td>\n",
       "    </tr>\n",
       "  </tbody>\n",
       "</table>\n",
       "</div>"
      ],
      "text/plain": [
       "  TAGNAME  DESCRIPTION            DATETIME VALUE\n",
       "0  test 1  DESCRIPTION  1/01/2015 00:00:00   100\n",
       "1  test 2  DESCRIPTION  1/01/2015 00:00:00   200"
      ]
     },
     "execution_count": 28,
     "metadata": {},
     "output_type": "execute_result"
    }
   ],
   "source": [
    "mdf"
   ]
  },
  {
   "cell_type": "code",
   "execution_count": 17,
   "metadata": {
    "collapsed": true
   },
   "outputs": [],
   "source": [
    "mdf = mdf[['DATETIME', 'TAGNAME', 'DESCRIPTION', 'VALUE']]"
   ]
  },
  {
   "cell_type": "code",
   "execution_count": 18,
   "metadata": {
    "collapsed": false
   },
   "outputs": [
    {
     "data": {
      "text/html": [
       "<div>\n",
       "<table border=\"1\" class=\"dataframe\">\n",
       "  <thead>\n",
       "    <tr style=\"text-align: right;\">\n",
       "      <th></th>\n",
       "      <th>DATETIME</th>\n",
       "      <th>TAGNAME</th>\n",
       "      <th>DESCRIPTION</th>\n",
       "      <th>VALUE</th>\n",
       "    </tr>\n",
       "  </thead>\n",
       "  <tbody>\n",
       "    <tr>\n",
       "      <th>0</th>\n",
       "      <td>1/01/2015 00:00:00</td>\n",
       "      <td>TAGNAME 1</td>\n",
       "      <td>TAG_DESCRIPTION</td>\n",
       "      <td>100</td>\n",
       "    </tr>\n",
       "    <tr>\n",
       "      <th>1</th>\n",
       "      <td>1/01/2015 00:00:00</td>\n",
       "      <td>TAGNAME 2</td>\n",
       "      <td>TAG2_DESCRIPTION</td>\n",
       "      <td>200</td>\n",
       "    </tr>\n",
       "  </tbody>\n",
       "</table>\n",
       "</div>"
      ],
      "text/plain": [
       "             DATETIME    TAGNAME       DESCRIPTION VALUE\n",
       "0  1/01/2015 00:00:00  TAGNAME 1   TAG_DESCRIPTION   100\n",
       "1  1/01/2015 00:00:00  TAGNAME 2  TAG2_DESCRIPTION   200"
      ]
     },
     "execution_count": 18,
     "metadata": {},
     "output_type": "execute_result"
    }
   ],
   "source": [
    "mdf"
   ]
  },
  {
   "cell_type": "code",
   "execution_count": null,
   "metadata": {
    "collapsed": true
   },
   "outputs": [],
   "source": []
  },
  {
   "cell_type": "code",
   "execution_count": null,
   "metadata": {
    "collapsed": true
   },
   "outputs": [],
   "source": []
  }
 ],
 "metadata": {
  "kernelspec": {
   "display_name": "Python [conda root]",
   "language": "python",
   "name": "conda-root-py"
  },
  "language_info": {
   "codemirror_mode": {
    "name": "ipython",
    "version": 3
   },
   "file_extension": ".py",
   "mimetype": "text/x-python",
   "name": "python",
   "nbconvert_exporter": "python",
   "pygments_lexer": "ipython3",
   "version": "3.5.2"
  }
 },
 "nbformat": 4,
 "nbformat_minor": 1
}
