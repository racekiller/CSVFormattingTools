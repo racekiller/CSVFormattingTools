{
 "cells": [
  {
   "cell_type": "code",
   "execution_count": null,
   "metadata": {
    "collapsed": true
   },
   "outputs": [],
   "source": [
    "# latest update\n",
    "# June 27, 2017\n",
    "# Changes done by: Jimmy Vivas\n",
    "\n",
    "# This code was developed by Jimmy Vivas for Aspen Technology\n",
    "# For Shell case, they created one file per month and a folder per tag\n",
    "\n",
    "# The code will take all files within sub folders but it wont process files located in the root folder\n",
    "# The colde will take the file name as a tagname and look for that tagname in a tag dictionary file\n",
    "# Then it will add the tagname and tag description to the CSV file for each file wihtin sub folders\n",
    "# The code will merge all individual csv files (monthly files) to be one single file"
   ]
  },
  {
   "cell_type": "code",
   "execution_count": null,
   "metadata": {
    "collapsed": false
   },
   "outputs": [],
   "source": [
    "from os import listdir\n",
    "from os import walk\n",
    "import pandas as pd\n",
    "import math\n",
    "import numpy as np"
   ]
  },
  {
   "cell_type": "code",
   "execution_count": null,
   "metadata": {
    "collapsed": true
   },
   "outputs": [],
   "source": [
    "# mac Path\n",
    "#CSVPath1 =  '/Users/jvivas/Documents/XMT Baytwon Sensor Data' \\\n",
    "#            '/Sensor Data/Testing'\n",
    "\n",
    "CSVPath1 = '/Users/jvivas/Documents/Aspen/Shell/to be processed'\n",
    "CSVMetaDataFile = '/Users/jvivas/Documents/Aspen/Shell/Metadata/Data Dictionary.csv'\n",
    "CSVPathProcessed = '/Users/jvivas/Documents/Aspen/Shell/Processed'\n",
    "\n",
    "# Windows Path\n",
    "# CSVPath1 = 'C:/Users/jvivas/Dropbox/Mtell Customer Projects/XOM BayTown RHC MEA Tower Foaming/Sensor Data/' \\\n",
    "#           'To be Processed'\n",
    "\n",
    "# CSVPath1 = 'C:/Mtell/Projects/XOM Baytown POC/Sensor Data/ToBeFormatted'"
   ]
  },
  {
   "cell_type": "code",
   "execution_count": null,
   "metadata": {
    "collapsed": false
   },
   "outputs": [],
   "source": [
    "def GetFiles(CSVPath):\n",
    "    CSVFileList = []\n",
    "    NanPHDTagList = []\n",
    "    CSVFileListAll = listdir(CSVPath)\n",
    "\n",
    "    m = len(CSVFileListAll)\n",
    "\n",
    "    for i in range(m):\n",
    "        fileNameStr = CSVFileListAll[i]\n",
    "        fileStr = fileNameStr.split('.')[0]\n",
    "        fileExt = fileNameStr.split('.')[1]\n",
    "        if fileExt == \"csv\":\n",
    "            CSVFileList.append(fileNameStr)\n",
    "\n",
    "    n = len(CSVFileList)\n",
    "    return(n, CSVFileList)"
   ]
  },
  {
   "cell_type": "markdown",
   "metadata": {},
   "source": [
    "# Uncomment following cell for debugging purposes"
   ]
  },
  {
   "cell_type": "code",
   "execution_count": null,
   "metadata": {
    "collapsed": true
   },
   "outputs": [],
   "source": [
    "# pd.set_option('display.max_rows', 500)\n",
    "# pd.set_option('display.max_columns', 500)\n",
    "# np.set_printoptions(threshold=np.nan)"
   ]
  },
  {
   "cell_type": "code",
   "execution_count": null,
   "metadata": {
    "collapsed": true
   },
   "outputs": [],
   "source": [
    "def LoadCSV(FileAndPath, file):\n",
    "    print ('Loading ' + file)\n",
    "    df2 = pd.read_csv(FileAndPath+'/'+file, low_memory=False)\n",
    "    return(df2)"
   ]
  },
  {
   "cell_type": "code",
   "execution_count": null,
   "metadata": {
    "collapsed": false
   },
   "outputs": [],
   "source": [
    "def GetTagName(CSVFileName):\n",
    "    IndexStr = CSVFileName.replace('_', 'OK', 2).find('_') - 2\n",
    "    TagName = CSVFileName[: IndexStr]\n",
    "    return(TagName)"
   ]
  },
  {
   "cell_type": "markdown",
   "metadata": {},
   "source": [
    "# This is the Main Code to execute"
   ]
  },
  {
   "cell_type": "code",
   "execution_count": null,
   "metadata": {
    "collapsed": false
   },
   "outputs": [],
   "source": [
    "print ('Loading Tagname Metadata')\n",
    "TagMetaDataDF = pd.read_csv(CSVMetaDataFile, low_memory=False)\n",
    "\n",
    "FolderList = next(walk(CSVPath1))[1]\n",
    "FolderListNumber = len(FolderList)\n",
    "\n",
    "for j in range(FolderListNumber):\n",
    "    CSVFinalPath = CSVPath1 + '/' + FolderList[j]\n",
    "    \n",
    "    print ('Getting files within folder: ' + FolderList[j])\n",
    "    n, CSVFileList = GetFiles(CSVFinalPath)\n",
    "\n",
    "    i = 0\n",
    "    for i in range(n - 1):\n",
    "        CSVFile = CSVFileList[i]\n",
    "        # CSVFileWithPath = CSVPath1 + \"/\" + CSVFileList[i]\n",
    "\n",
    "        df2 = LoadCSV(CSVFinalPath, CSVFile)\n",
    "        print ('Getting TagName')\n",
    "        TagName =  GetTagName(CSVFile)\n",
    "        print('Getting TagDescription')\n",
    "        TagDescription = TagMetaDataDF.loc[TagMetaDataDF['Tag Name'] == TagName, 'Description'].values[0]\n",
    "        print ('Adding Tag name and description to CSV file')\n",
    "\n",
    "        df2['TagName'] = TagName\n",
    "        df2['Description'] = TagDescription\n",
    "\n",
    "        df2.to_csv(CSVPathProcessed + '/' + str(CSVFile.replace('.csv', '')) + '_Formatted.csv', index=False)\n",
    "        if i == 0:\n",
    "            df2_concatenated = df2.copy()\n",
    "        else:\n",
    "            df2_concatenated = df2_concatenated.append(df2)\n",
    "    df2_concatenated.to_csv(CSVPathProcessed + '/' + str(CSVFile.replace('.csv', '')) + '_Concatenated.csv', index=False)\n",
    "    print ('Tagname: ' + TagName + ' Processed')\n"
   ]
  }
 ],
 "metadata": {
  "anaconda-cloud": {},
  "kernelspec": {
   "display_name": "Python [conda root]",
   "language": "python",
   "name": "conda-root-py"
  },
  "language_info": {
   "codemirror_mode": {
    "name": "ipython",
    "version": 3
   },
   "file_extension": ".py",
   "mimetype": "text/x-python",
   "name": "python",
   "nbconvert_exporter": "python",
   "pygments_lexer": "ipython3",
   "version": "3.5.2"
  }
 },
 "nbformat": 4,
 "nbformat_minor": 0
}
