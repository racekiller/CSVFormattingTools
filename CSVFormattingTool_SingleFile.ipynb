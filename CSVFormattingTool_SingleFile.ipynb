{
 "cells": [
  {
   "cell_type": "code",
   "execution_count": 1,
   "metadata": {
    "collapsed": true
   },
   "outputs": [],
   "source": [
    "# latest update\n",
    "# April 26, 2017\n",
    "# Changes done by: Jimmy Vivas\n",
    "# Added code description\n",
    "\n",
    "# This code was developed by Jimmy Vivas\n",
    "\n",
    "# The code will take all CSv files from a specific directory and process them at the same time\n",
    "# The code will get replace strings in the values for numeric data\n",
    "#   It will assign an integer value for each distinct string for each column (sensor)\n",
    "#   The integer value will be reset it for each sensor\n",
    "#   The code does not evaluare wether or not the sensor should stay. THe analyst will make this decision\n",
    "#   Using Previse or any other tool\n",
    "# The code will split the csv file if the result is more than 1MM rows"
   ]
  },
  {
   "cell_type": "code",
   "execution_count": 2,
   "metadata": {
    "collapsed": false
   },
   "outputs": [],
   "source": [
    "from os import listdir\n",
    "import pandas as pd\n",
    "import math"
   ]
  },
  {
   "cell_type": "code",
   "execution_count": 3,
   "metadata": {
    "collapsed": true
   },
   "outputs": [],
   "source": [
    "CSVFileList = []\n",
    "NanPHDTagList = []"
   ]
  },
  {
   "cell_type": "code",
   "execution_count": 4,
   "metadata": {
    "collapsed": true
   },
   "outputs": [],
   "source": [
    "# mac Path\n",
    "#CSVPath1 =  '/Users/jvivas/Documents/XMT Baytwon Sensor Data' \\\n",
    "#            '/Sensor Data/Testing'\n",
    "\n",
    "CSVPath1 = '/Users/jvivas/Documents/Aspen/PTT GC PoC/Sensor Data/A210 - Quench Oil Tower/To Be Processed'\n",
    "\n",
    "# Windows Path\n",
    "# CSVPath1 = 'C:/Users/jvivas/Dropbox/Mtell Customer Projects/XOM BayTown RHC MEA Tower Foaming/Sensor Data/' \\\n",
    "#           'To be Processed'\n",
    "\n",
    "# CSVPath1 = 'C:/Mtell/Projects/XOM Baytown POC/Sensor Data/ToBeFormatted'"
   ]
  },
  {
   "cell_type": "code",
   "execution_count": 5,
   "metadata": {
    "collapsed": true
   },
   "outputs": [],
   "source": [
    "CSVFileListAll = listdir(CSVPath1)\n",
    "m = len(CSVFileListAll)\n",
    "for i in range(m):\n",
    "    fileNameStr = CSVFileListAll[i]\n",
    "    fileStr = fileNameStr.split('.')[0]\n",
    "    fileExt = fileNameStr.split('.')[1]\n",
    "    if fileExt == \"csv\":\n",
    "        CSVFileList.append(fileNameStr)"
   ]
  },
  {
   "cell_type": "code",
   "execution_count": 6,
   "metadata": {
    "collapsed": true
   },
   "outputs": [],
   "source": [
    "n = len(CSVFileList)"
   ]
  },
  {
   "cell_type": "code",
   "execution_count": 7,
   "metadata": {
    "collapsed": true
   },
   "outputs": [],
   "source": [
    "pd.set_option('display.max_rows', 500)\n",
    "pd.set_option('display.max_columns', 500)"
   ]
  },
  {
   "cell_type": "code",
   "execution_count": 8,
   "metadata": {
    "collapsed": false
   },
   "outputs": [
    {
     "name": "stdout",
     "output_type": "stream",
     "text": [
      "Loading Segment: A210_3Columns_Small.csv\n"
     ]
    }
   ],
   "source": [
    "i = 0\n",
    "csvfile = CSVPath1 + \"/\" + CSVFileList[i]\n",
    "print(\"Loading Segment: %s\" % CSVFileList[i])\n",
    "\n",
    "# In[43]:\n",
    "df = pd.read_csv(csvfile, index_col=False, sep=',', low_memory=False)\n",
    "\n",
    "# In[51]:\n",
    "# Need to do this to avoid \n",
    "df = df.copy()\n",
    "# Change new datetime column to datetime format\n",
    "df['Date TIme'] = pd.to_datetime(df['Date TIme'])\n",
    "# In[53]:\n",
    "# Change datetime column format to look like 01/31/2015 0:00:00\n",
    "df['Date TIme'] = df['Date TIme'].dt.strftime('%m/%d/%Y %H:%M:%S')\n",
    "\n",
    "# Code to do Transposing\n",
    "# Create two dataframes df1 only with tags and descriptions. df2 tag with values\n",
    "df1 = df[0:1]  # FIRST ROW\n",
    "df2 = df[1:len(df)]  # SECOND TO LAST ROW\n",
    "\n",
    "# Replacing known test to null\n",
    "# df2.replace({'Bad': 'null', 'No Data': 'null', 'error': 'null'}, inplace=True, regex=True)"
   ]
  },
  {
   "cell_type": "code",
   "execution_count": 9,
   "metadata": {
    "collapsed": false
   },
   "outputs": [],
   "source": [
    "# Indexing dataframe df1\n",
    "df1 = df1.set_index('Date TIme')\n",
    "\n",
    "# Indexing dataframe df2\n",
    "df2 = df2.set_index('Date TIme')"
   ]
  },
  {
   "cell_type": "code",
   "execution_count": 10,
   "metadata": {
    "collapsed": true
   },
   "outputs": [],
   "source": [
    "import numpy as np"
   ]
  },
  {
   "cell_type": "code",
   "execution_count": 11,
   "metadata": {
    "collapsed": false
   },
   "outputs": [],
   "source": [
    "np.set_printoptions(threshold=np.nan)"
   ]
  },
  {
   "cell_type": "code",
   "execution_count": 12,
   "metadata": {
    "collapsed": false
   },
   "outputs": [],
   "source": [
    "SensorDictionary = {}.fromkeys(list(df1), [])"
   ]
  },
  {
   "cell_type": "code",
   "execution_count": 13,
   "metadata": {
    "collapsed": false
   },
   "outputs": [
    {
     "data": {
      "text/plain": [
       "3"
      ]
     },
     "execution_count": 13,
     "metadata": {},
     "output_type": "execute_result"
    }
   ],
   "source": [
    "len(SensorDictionary)"
   ]
  },
  {
   "cell_type": "code",
   "execution_count": 14,
   "metadata": {
    "collapsed": true
   },
   "outputs": [],
   "source": [
    "Sensor = list(SensorDictionary)[0]"
   ]
  },
  {
   "cell_type": "code",
   "execution_count": 15,
   "metadata": {
    "collapsed": false
   },
   "outputs": [
    {
     "data": {
      "text/plain": [
       "'158.78685'"
      ]
     },
     "execution_count": 15,
     "metadata": {},
     "output_type": "execute_result"
    }
   ],
   "source": [
    "df2[Sensor].iloc[0]"
   ]
  },
  {
   "cell_type": "code",
   "execution_count": 19,
   "metadata": {
    "collapsed": false
   },
   "outputs": [
    {
     "name": "stdout",
     "output_type": "stream",
     "text": [
      "Sensors with String data\n",
      "{'tagname 2': ['wow more text'], 'tagname 3': [], 'tagname 1': ['test', 'hello there']}\n"
     ]
    }
   ],
   "source": [
    "# Create dictionary from dataframe columns (sensors)\n",
    "SensorDictionary = {}.fromkeys(list(df1), [])\n",
    "for i in range(len(list(SensorDictionary))):\n",
    "    # update sensor name for each column\n",
    "    Sensor = list(SensorDictionary)[i]\n",
    "    # Clear List of String for each Sensor\n",
    "    StringList = []\n",
    "    for j in range(len(df2)):\n",
    "        try:\n",
    "            # df2.iloc[i].apply(lambda x: pd.to_numeric(x, errors='raise'))\n",
    "            df2[Sensor].iloc[j] = float(df2[Sensor].iloc[j])\n",
    "        except ValueError:\n",
    "            # Add String to list\n",
    "            StringList.append(str(df2[Sensor].iloc[j]))\n",
    "            # print ('Can not convert '+ str(df2[Sensor].iloc[j]) + ' to number' + ' in row: ' + str(j) + ' for sensor: ' + Sensor)\n",
    "        # Add distinct Strings to the sensor Dictionary\n",
    "        SensorDictionary[Sensor] = list(set(StringList))\n",
    "print ('Sensors with String data')\n",
    "print (SensorDictionary)"
   ]
  },
  {
   "cell_type": "code",
   "execution_count": null,
   "metadata": {
    "collapsed": false,
    "scrolled": true
   },
   "outputs": [],
   "source": [
    "i = 0\n",
    "for i in range(n):\n",
    "    csvfile = CSVPath1 + \"/\" + CSVFileList[i]\n",
    "    print(\"Loading Segment: %s\" % CSVFileList[i])\n",
    "\n",
    "    # In[43]:\n",
    "    df = pd.read_csv(csvfile, index_col=False, sep=',', low_memory=False)\n",
    "    \n",
    "    # In[51]:\n",
    "    # Need to do this to avoid \n",
    "    df = df.copy()\n",
    "    # Change new datetime column to datetime format\n",
    "    df['Date TIme'] = pd.to_datetime(df['Date TIme'])\n",
    "    # In[53]:\n",
    "    # Change datetime column format to look like 01/31/2015 0:00:00\n",
    "    df['Date TIme'] = df['Date TIme'].dt.strftime('%m/%d/%Y %H:%M:%S')\n",
    "\n",
    "    # Code to do Transposing\n",
    "    # Create two dataframes df1 only with tags and descriptions. df2 tag with values\n",
    "    df1 = df[0:1]  # FIRST ROW\n",
    "    df2 = df[1:len(df)]  # SECOND TO LAST ROW\n",
    "    \n",
    "    # Indexing dataframe df1\n",
    "    df1 = df1.set_index('Date TIme')\n",
    "\n",
    "    # Indexing dataframe df2\n",
    "    df2 = df2.set_index('Date TIme')\n",
    "\n",
    "    # Convert columns to numbers those that has string wont be converted\n",
    "    df2 = df2.apply(lambda x: pd.to_numeric(x, errors='ignore'))\n",
    "\n",
    "    # Here we filter the columns that are objects and create a dataframe with those columns\n",
    "    colsObject = df2.select_dtypes(include=['object']).columns\n",
    "    TotalColumns = df2.columns\n",
    "    \n",
    "    # print status\n",
    "    print (str(len(colsObject)) + ' columns contain strings out of ' + str(len(TotalColumns)) + ' columns')\n",
    "    print ('this process will take some time depending of the size of the file and the PC resources')\n",
    "    \n",
    "    # We need to do a for loop to go thru each column and convert  the characters string to numbers\n",
    "    y = 0\n",
    "    for y in range(len(colsObject)):\n",
    "        # We don't want to change null to number\n",
    "        from IPython.core.debugger import Tracer\n",
    "        Tracer()() #this one triggers the debugger\n",
    "            \n",
    "        # Create dictionary from dataframe columns (sensors)\n",
    "        SensorDictionary = {}.fromkeys(list(df1), [])\n",
    "        for j in range(len(list(SensorDictionary))):\n",
    "            # update sensor name for each column\n",
    "            Sensor = list(SensorDictionary)[j]\n",
    "            # Clear List of String for each Sensor\n",
    "            StringList = []\n",
    "            for x in range(len(df2)):\n",
    "                try:\n",
    "                    # df2.iloc[i].apply(lambda x: pd.to_numeric(x, errors='raise'))\n",
    "                    df2[Sensor].iloc[x] = float(df2[Sensor].iloc[x])\n",
    "                except ValueError:\n",
    "                    # Add String to list\n",
    "                    StringList.append(str(df2[Sensor].iloc[x]))\n",
    "                    # print ('Can not convert '+ str(df2[Sensor].iloc[j]) + ' to number' + ' in row: ' + str(j) + ' for sensor: ' + Sensor)\n",
    "                # Add distinct Strings to the sensor Dictionary\n",
    "                SensorDictionary[Sensor] = list(set(StringList))\n",
    "        print ('Sensors with String data for file: ' + CSVFileList[i])\n",
    "        print (SensorDictionary)"
   ]
  },
  {
   "cell_type": "code",
   "execution_count": 20,
   "metadata": {
    "collapsed": true
   },
   "outputs": [],
   "source": [
    "## Now we have to replace string for specific text"
   ]
  },
  {
   "cell_type": "code",
   "execution_count": null,
   "metadata": {
    "collapsed": true
   },
   "outputs": [],
   "source": [
    "if pd.unique(df2[[colsObject[1]]].values.ravel()) != 'null':\n",
    "# Here we are assign a integer to each unique row value, the integer will increase\n",
    "# from 0 to x where x is the total unique values\n",
    "    df2[[df2.columns.get_loc(colsObject[y])]] = pd.factorize(df2.iloc[:,df2.columns.get_loc(colsObject[y])])[0]\n",
    "\n",
    "# Replacing known test to null\n",
    "df2.replace({'Bad': 'null', 'No Data': 'null', 'error': 'null'}, inplace=True, regex=True)"
   ]
  },
  {
   "cell_type": "code",
   "execution_count": 21,
   "metadata": {
    "collapsed": true
   },
   "outputs": [],
   "source": [
    "# Now we convert the data to linear format Previse"
   ]
  },
  {
   "cell_type": "code",
   "execution_count": null,
   "metadata": {
    "collapsed": true
   },
   "outputs": [],
   "source": [
    "# Converting Historian files to VTQ format (DATETIME, TAGNAME, DESCRIPTION, VALUE)\n",
    "mdf = pd.merge(pd.melt(df1, id_vars=['Date TIme'], var_name='TAGNAME',\n",
    "                       value_name='DESCRIPTION')[['TAGNAME']],\n",
    "               pd.melt(df2, id_vars=['Date TIme'],  var_name='TAGNAME',\n",
    "                       value_name='VALUE'), on=['TAGNAME'])\n",
    "\n",
    "# Sort columns by VTQ format\n",
    "mdf = mdf[['Date TIme', 'TAGNAME', 'VALUE']]"
   ]
  },
  {
   "cell_type": "code",
   "execution_count": 22,
   "metadata": {
    "collapsed": true
   },
   "outputs": [],
   "source": [
    "# Here we split the CSV data by file and each file will contain 1 million rows"
   ]
  },
  {
   "cell_type": "code",
   "execution_count": null,
   "metadata": {
    "collapsed": true
   },
   "outputs": [],
   "source": [
    "# Exporting PHD Tag CSV file\n",
    "j = 1\n",
    "rows = 1000000\n",
    "totalRows = len(mdf)\n",
    "loops = math.ceil(totalRows/rows) + 1\n",
    "\n",
    "for j in range(loops): #need to round this\n",
    "    a = (rows*j) - rows\n",
    "    if totalRows <= rows:\n",
    "        b = totalRows\n",
    "        print('Exporting ' + str(CSVFileList[i].replace('.csv', '')) + ' Historian File')\n",
    "        print(\"\")\n",
    "        mdf[a:b].to_csv(CSVPath1 + '/' + str(CSVFileList[i].replace('.csv', '')) + '_Formatted.csv', index=False)\n",
    "    else:\n",
    "        if (rows*j) >= totalRows:\n",
    "            b = totalRows\n",
    "            print('Exporting ' + str(CSVFileList[i].replace('.csv', '')) + ' chunk' + str(j) + ' Historian File')\n",
    "            print(\"\")\n",
    "            mdf[a:b].to_csv(CSVPath1 + '/' + str(CSVFileList[i].replace('.csv', '')) + '_Formatted_chunk' + str(j) + '.csv', index=False)\n",
    "        else:\n",
    "            b = (rows*j) - 1\n",
    "            print('Exporting ' + str(CSVFileList[i].replace('.csv', '')) + ' chunk' + str(j) + ' Historian File')\n",
    "            print(\"\")\n",
    "            mdf[a:b].to_csv(CSVPath1 + '/' + str(CSVFileList[i].replace('.csv', '')) + '_Formatted_chunk' + str(j) + '.csv', index=False)"
   ]
  }
 ],
 "metadata": {
  "anaconda-cloud": {},
  "kernelspec": {
   "display_name": "Python [conda root]",
   "language": "python",
   "name": "conda-root-py"
  },
  "language_info": {
   "codemirror_mode": {
    "name": "ipython",
    "version": 3
   },
   "file_extension": ".py",
   "mimetype": "text/x-python",
   "name": "python",
   "nbconvert_exporter": "python",
   "pygments_lexer": "ipython3",
   "version": "3.5.2"
  }
 },
 "nbformat": 4,
 "nbformat_minor": 0
}
