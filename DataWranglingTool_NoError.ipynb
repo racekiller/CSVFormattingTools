{
 "cells": [
  {
   "cell_type": "code",
   "execution_count": null,
   "metadata": {
    "collapsed": true
   },
   "outputs": [],
   "source": [
    "# latest update\n",
    "# October 1st 2017\n",
    "# Changes done by: Jimmy Vivas\n",
    "# Added code description\n",
    "\n",
    "# This code was developed by Jimmy Vivas\n",
    "\n",
    "# The code will take all CSv files from a specific directory and process them at the same Time\n",
    "# The program will need manual input to replace strings found for numeric data or null value\n",
    "#   It will assign an integer value for each distinct string for each column (sensor)\n",
    "# The code will generate as many csv files pero 1MM rows"
   ]
  },
  {
   "cell_type": "markdown",
   "metadata": {},
   "source": [
    "# STEP 1 -. Update the path where the CSV files to be processed is located"
   ]
  },
  {
   "cell_type": "markdown",
   "metadata": {},
   "source": [
    "\n",
    "### Create two folders\n",
    "#### Folder 1 = CSVPAath1 is where the CSV file to be processed is located\n",
    "#### Folder 2 = FinalPath is where all the files processed will be created"
   ]
  },
  {
   "cell_type": "code",
   "execution_count": 1,
   "metadata": {
    "collapsed": true
   },
   "outputs": [],
   "source": [
    "# Windows Path\n",
    "CSVPath1 = 'C:/Users/vivasj/Documents/Aspen/PTT GC/C002B/Data/to be processed'\n",
    "FinalPath = 'C:/Users/vivasj/Documents/Aspen/PTT GC/C002B/Data/processed'"
   ]
  },
  {
   "cell_type": "markdown",
   "metadata": {},
   "source": [
    "# STEP 2-. Find characters in CSV file"
   ]
  },
  {
   "cell_type": "code",
   "execution_count": 2,
   "metadata": {
    "collapsed": true
   },
   "outputs": [],
   "source": [
    "from utils import *"
   ]
  },
  {
   "cell_type": "code",
   "execution_count": 3,
   "metadata": {},
   "outputs": [
    {
     "name": "stdout",
     "output_type": "stream",
     "text": [
      "Loading 200C2_Fixed_DateFormat_6Columns_JV.csv\n",
      "Renaming date and time column\n",
      "Applying date and time format\n",
      "Extracting strings from csv file\n",
      "Converting df to numeric\n",
      "Total columns with text: Index(['A1-200TI727HA.PV', '100TI97.PV', '200PI53.PV', '200TI371.PV',\n",
      "       '200TI348.PV', '200TI347.PV'],\n",
      "      dtype='object')\n",
      "Sensors with text in their Values: ['A1-200TI727HA.PV', '100TI97.PV', '200PI53.PV', '200TI371.PV', '200TI348.PV', '200TI347.PV']\n",
      "Processing Sensor: A1-200TI727HA.PV\n",
      "These are all the strings found in Sensor A1-200TI727HA.PV: ['No Data']\n",
      "Processing Sensor: 100TI97.PV\n",
      "These are all the strings found in Sensor 100TI97.PV: ['I/O Timeout', 'Error', 'Shutdown']\n",
      "Processing Sensor: 200PI53.PV\n",
      "These are all the strings found in Sensor 200PI53.PV: ['I/O Timeout', 'Bad', 'Error', 'Shutdown']\n",
      "Processing Sensor: 200TI371.PV\n",
      "These are all the strings found in Sensor 200TI371.PV: ['Error', 'I/O Timeout', 'Shutdown']\n",
      "Processing Sensor: 200TI348.PV\n",
      "These are all the strings found in Sensor 200TI348.PV: ['Error', 'I/O Timeout', 'Shutdown']\n",
      "Processing Sensor: 200TI347.PV\n",
      "These are all the strings found in Sensor 200TI347.PV: ['Error', 'I/O Timeout', 'Shutdown']\n",
      "These are all the strings found in the csv file: ['Shutdown', 'I/O Timeout', 'No Data', 'Bad', 'Error']\n"
     ]
    },
    {
     "data": {
      "text/plain": [
       "{'Bad': 'null',\n",
       " 'Error': 'null',\n",
       " 'I/O Timeout': 'null',\n",
       " 'No Data': 'null',\n",
       " 'Shutdown': 'null'}"
      ]
     },
     "execution_count": 3,
     "metadata": {},
     "output_type": "execute_result"
    }
   ],
   "source": [
    "CSVFileList = GetCSVList(CSVPath1)\n",
    "\n",
    "CSVFile = CSVFileList[0]\n",
    "CSVFileWithPath = CSVPath1 + \"/\" + CSVFileList[0]\n",
    "\n",
    "csvFileSizeGB = GetFileSize(CSVFileWithPath)\n",
    "\n",
    "if csvFileSizeGB > 1:\n",
    "    StringListForAllSensors = SplitCSVFile_GetStrings(CSVFileWithPath, CSVFile)\n",
    "    print ('These are all the strings found in the file: ' + str(StringListForAllSensors))\n",
    "else:\n",
    "    \n",
    "    df2 = LoadCSV(CSVFileWithPath, CSVFile)\n",
    "    \n",
    "    # Rename date and time column\n",
    "    print ('Renaming date and time column')\n",
    "    RenameColumn(df2)\n",
    "    # Apply Date and time format to dataframe\n",
    "    print ('Applying date and time format')\n",
    "    ApplyDateFormat(df2)\n",
    "    \n",
    "    # Apply Index and create two dataframes\n",
    "    df2_1, df2_2 = SetIndex(df2)\n",
    "    \n",
    "    print ('Extracting strings from csv file')\n",
    "    StringListForAllSensors = ExtractStrings(df2_1, df2_2)\n",
    "    \n",
    "    print ('These are all the strings found in the csv file: ' + str(StringListForAllSensors))\n",
    "\n",
    "# Convert all strings to a Dictionary\n",
    "StringListDict = {}.fromkeys(StringListForAllSensors, 'null')\n",
    "\n",
    "# print (\"# Run following line to see the list of Strings\")\n",
    "## Copy the result and paste it in the following line of code\")\n",
    "StringListDict"
   ]
  },
  {
   "cell_type": "markdown",
   "metadata": {},
   "source": [
    "# STEP 3 - Replace null with Integers if necessary"
   ]
  },
  {
   "cell_type": "code",
   "execution_count": 4,
   "metadata": {},
   "outputs": [],
   "source": [
    "StringListDict = {\n",
    " 'Bad': 'null',\n",
    " 'Error': 'null',\n",
    " 'I/O Timeout': 'null',\n",
    " 'No Data': 'null',\n",
    " 'Shutdown': 'null'}"
   ]
  },
  {
   "cell_type": "markdown",
   "metadata": {},
   "source": [
    "# STEP 4 -. Export processed files"
   ]
  },
  {
   "cell_type": "code",
   "execution_count": null,
   "metadata": {},
   "outputs": [],
   "source": [
    "# Replacing known test to null\n",
    "df2_2 = ReplaceStrings(df2_2, StringListDict)\n",
    "\n",
    "# Create dataframe to export individual tags\n",
    "df_final = pd.concat([df2_1, df2_2])\n",
    "\n",
    "# Export Individual Tags to CSV\n",
    "print(\"Creating CSV per TagName\")\n",
    "ExportTagNamesToCSV(df_final,FinalPath)\n",
    "\n",
    "# Merge dataframes to export to CSV\n",
    "mdf = FormatToPrevise(df2_1,df2_2)\n",
    "\n",
    "# Check format data to be exportedaa\n",
    "mdf.head(25)\n",
    "\n",
    "# Export to CSV\n",
    "print ('Creating CSVs to be imported into Aspen Mtell')\n",
    "SplitPreviseFormatCSVFile(mdf,CSVFileList,FinalPath)"
   ]
  },
  {
   "cell_type": "code",
   "execution_count": null,
   "metadata": {
    "collapsed": true
   },
   "outputs": [],
   "source": []
  }
 ],
 "metadata": {
  "anaconda-cloud": {},
  "kernelspec": {
   "display_name": "Python 3",
   "language": "python",
   "name": "python3"
  },
  "language_info": {
   "codemirror_mode": {
    "name": "ipython",
    "version": 3
   },
   "file_extension": ".py",
   "mimetype": "text/x-python",
   "name": "python",
   "nbconvert_exporter": "python",
   "pygments_lexer": "ipython3",
   "version": "3.6.1"
  }
 },
 "nbformat": 4,
 "nbformat_minor": 1
}