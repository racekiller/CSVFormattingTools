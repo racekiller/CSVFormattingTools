{
 "cells": [
  {
   "cell_type": "code",
   "execution_count": 1,
   "metadata": {
    "collapsed": true
   },
   "outputs": [],
   "source": [
    "# latest update\n",
    "# October 1st 2017\n",
    "# Changes done by: Jimmy Vivas\n",
    "# Added code description\n",
    "\n",
    "# This code was developed by Jimmy Vivas\n",
    "\n",
    "# Find below all functions used in DataWranglingTool"
   ]
  },
  {
   "cell_type": "code",
   "execution_count": 1,
   "metadata": {
    "collapsed": true
   },
   "outputs": [],
   "source": [
    "def GetFileSize(file):\n",
    "    import os\n",
    "    csvFileStatInfo = os.stat(file)\n",
    "    csvFileSizeGB = csvFileStatInfo.st_size/1000000000\n",
    "    return(csvFileSizeGB)    "
   ]
  },
  {
   "cell_type": "code",
   "execution_count": 2,
   "metadata": {
    "collapsed": true
   },
   "outputs": [],
   "source": [
    "def RenameColumn(df2):\n",
    "# Ranane Date and time column to DATETIME\n",
    "    new_cols = ['DATETIME']\n",
    "    df2.rename(columns=dict(zip(df2.columns[[0]], new_cols)),inplace=True)\n",
    "    return"
   ]
  },
  {
   "cell_type": "code",
   "execution_count": 3,
   "metadata": {
    "collapsed": true
   },
   "outputs": [],
   "source": [
    "def ApplyDateFormat(df2):\n",
    "\n",
    "    # duplicate df2 to apply date and time format \n",
    "    df2 = df2.copy()    \n",
    "    # Change new datetime column to datetime format\n",
    "    df2['DATETIME'] = pd.to_datetime(df2['DATETIME'])    \n",
    "    # Change datetime column format to look like 01/31/2015 0:00:00\n",
    "    df2['DATETIME'] = df2['DATETIME'].dt.strftime('%m/%d/%Y %H:%M:%S')\n",
    "    return"
   ]
  },
  {
   "cell_type": "code",
   "execution_count": 4,
   "metadata": {
    "collapsed": true
   },
   "outputs": [],
   "source": [
    "def SplitCSVFile_GetStrings(CSVFileWithPath, CSVFile):\n",
    "    chunksize = 25000\n",
    "\n",
    "    i = 0\n",
    "    j = 1\n",
    "    \n",
    "    SensorStringListAllChunks = []\n",
    "    StringListForAllSensors = []\n",
    "    StringListForEachChunk = []\n",
    "        \n",
    "    print ('Loading ' + CSVFile + ' file')\n",
    "    for df in pd.read_csv(CSVFileWithPath, chunksize=chunksize, iterator=True, low_memory=False):\n",
    "        # df = df.rename(columns={c: c.replace(' ', '') for c in df.columns}) \n",
    "        df.index += j\n",
    "        i+=1\n",
    "        j = df.index[-1] + 1\n",
    "        h = 0\n",
    "        \n",
    "        # Rename date and time column\n",
    "        print ('Renaming date and time column')\n",
    "        RenameColumn(df)\n",
    "\n",
    "        # Apply Date and time format to dataframe\n",
    "        print ('Applying date and time format')\n",
    "        ApplyDateFormat(df)\n",
    "\n",
    "        # Code to do Transposing\n",
    "        # Create two dataframes df1 only with tags and descriptions. df2 tag with values\n",
    "        if i == 1:\n",
    "            df1 = df[0:1]  # FIRST ROW\n",
    "            # Indexing dataframe df1\n",
    "            df1 = df1.set_index('DATETIME')\n",
    "        else:\n",
    "            if i > 1:\n",
    "                df1 = df1\n",
    "                \n",
    "        df2 = df[1:len(df)]  # SECOND TO LAST ROW\n",
    "\n",
    "        # Indexing dataframe df2\n",
    "        df2 = df2.set_index('DATETIME')\n",
    "        \n",
    "        # Export CSV chunk for each loop\n",
    "        print ('Exporting chunk' + str(i))\n",
    "        df.to_csv(CSVFileWithPath.replace('.csv', '') + '_chunk_ ' + str(i) + '.csv', index=True)\n",
    "        \n",
    "        print ('Getting the list for chunk' + str(i))\n",
    "        StringListForEachChunk = ExtractStrings(df1, df2)\n",
    "        \n",
    "        print ('These are all the strings found in the chunk ' + str(i) + ':' + str(StringListForEachChunk))\n",
    "        \n",
    "        SensorStringListAllChunks.extend(StringListForEachChunk)\n",
    "\n",
    "    SensorStringListAllChunks = list(set(SensorStringListAllChunks))\n",
    "    return(SensorStringListAllChunks)"
   ]
  },
  {
   "cell_type": "code",
   "execution_count": 5,
   "metadata": {
    "collapsed": true
   },
   "outputs": [],
   "source": [
    "def ExtractStrings(df2_1, df2_2):\n",
    "        \n",
    "    print ('Converting df to numeric')\n",
    "    # Convert columns to numbers those that has string wil be converted to numpy null = NaN\n",
    "    df2_with_nan = df2_2.apply(lambda x: pd.to_numeric(x, errors='coerce'))\n",
    "    # print (df2_2.head())\n",
    "    # print (df2_with_nan.head())\n",
    "    # Ge the list of sensors with Strings\n",
    "    df3 = pd.DataFrame(df2_with_nan.isnull().any(axis=0))\n",
    "    df3 = df3.reset_index()\n",
    "    SensorsWithStrings = df3[df3[0]==True]['index'].tolist()\n",
    "    \n",
    "    # Replace nan with 'null' and create new df\n",
    "    df2_with_null = df2_with_nan.fillna(value='null')\n",
    "    \n",
    "    # Here we filter the columns that are objects and create a dataframe with those columns\n",
    "    colsObject = df2_2.select_dtypes(include=['object']).columns\n",
    "    TotalColumns = df2_2.columns\n",
    "    \n",
    "    print ('Total columns with text: ' + str(TotalColumns))\n",
    "    print ('Sensors with text in their Values: ' + str(SensorsWithStrings))\n",
    "\n",
    "    AllSensorsStringList = []\n",
    "    \n",
    "    if len(SensorsWithStrings) == 0:\n",
    "        print ('No strings in this dataframe')\n",
    "    else:\n",
    "        # print (str(len(SensorsWithStrings)) + ' columns contain strings out of ' + str(len(TotalColumns)) + ' columns')\n",
    "        # if (len(SensorsWithStrings)/len(TotalColumns)) > 0.5:\n",
    "            # print ('this process will take some time depending of the size of the file and the PC resources')\n",
    "\n",
    "        # Dropping DATETIME index to merge df1 and df2\n",
    "        df2_1 = df2_1.reset_index(drop=False)\n",
    "        df2_2 = df2_2.reset_index(drop=False)\n",
    "        \n",
    "        # Variable initialization\n",
    "        j = 0\n",
    "\n",
    "        StringListForCurrentSensor = []\n",
    "\n",
    "        # Create dictionary from dataframe columns (sensors) that have strings only\n",
    "        SensorDictionary = {}.fromkeys(SensorsWithStrings, [])\n",
    "        \n",
    "        # Loop to go thru each column and convert the characters string to numbers    \n",
    "        for j in range(len(SensorsWithStrings)):\n",
    "            # from IPython.core.debugger import Tracer\n",
    "            # Tracer()() #this one triggers the debugger\n",
    "\n",
    "            # iterate thru each column in the dataframe\n",
    "            # for j in range(len(list(SensorDictionary))):\n",
    "            # update sensor name for each column\n",
    "            Sensor = list(SensorDictionary)[j]\n",
    "\n",
    "            print ('Processing Sensor: ' + Sensor)\n",
    "            # Clear List of String for each Sensor\n",
    "            SensorStringResult = []\n",
    "\n",
    "            # Get rows that have null in the actual sensor column\n",
    "            result = df2_with_nan[df2_with_nan[Sensor].isnull()][Sensor]\n",
    "\n",
    "            # Convert list of nulls to dataframe and reset the datetime index\n",
    "            result_df = pd.DataFrame(result)\n",
    "            result_df = result_df.reset_index()\n",
    "            \n",
    "            # print ('printing result_df')\n",
    "            # print (result_df.head())\n",
    "            # print ('printing df2_2')\n",
    "            # print (df2_2.head())\n",
    "            # debugging\n",
    "            # print (result_df)\n",
    "            # debugging\n",
    "\n",
    "            # Filtering rows with String for each sensor\n",
    "            SensorStringResult = df2_2[df2_2['DATETIME'].isin(result_df.loc[:,\"DATETIME\"].values.tolist())][Sensor]\n",
    "\n",
    "            # Adding Strings to Sensor in Sensor Dictionary\n",
    "            # I think that when due to a bug the dictionary become too big it stops growing...\n",
    "            # SensorDictionary[Sensor] = list(set(SensorStringResult))\n",
    "            StringListForCurrentSensor = list(set(SensorStringResult))\n",
    "            \n",
    "            # Debugging\n",
    "            # print (list(set(SensorStringResult)))\n",
    "            # Debugging\n",
    "            \n",
    "            # print ('Sensor: ' + Sensor + ' Processed')\n",
    "\n",
    "            # Adding String for Sensor to General String List\n",
    "            AllSensorsStringList.extend(StringListForCurrentSensor)\n",
    "\n",
    "            # Removing Duplicate Strings\n",
    "            AllSensorsStringList = list(set(AllSensorsStringList))\n",
    "            \n",
    "            print ('These are all the strings found in Sensor ' + Sensor + ': ' + str(StringListForCurrentSensor))\n",
    "    return (AllSensorsStringList)"
   ]
  },
  {
   "cell_type": "code",
   "execution_count": 6,
   "metadata": {
    "collapsed": true
   },
   "outputs": [],
   "source": [
    "def SetIndex(df2):\n",
    "        # Code to do Transposing\n",
    "    # Create two dataframes df1 only with tags and descriptions. df2 tag with values\n",
    "    df2_1 = df2[0:1]  # FIRST ROW\n",
    "    df2_2 = df2[1:len(df2)]  # SECOND TO LAST ROW\n",
    "    \n",
    "    # Indexing dataframe df1\n",
    "    df2_1 = df2_1.set_index('DATETIME')\n",
    "\n",
    "    # Indexing dataframe df2\n",
    "    df2_2 = df2_2.set_index('DATETIME')\n",
    "    return(df2_1, df2_2)"
   ]
  },
  {
   "cell_type": "code",
   "execution_count": 7,
   "metadata": {
    "collapsed": true
   },
   "outputs": [],
   "source": [
    "def LoadCSV(FileAndPath, file):\n",
    "    print ('Loading ' + file)\n",
    "    df2 = pd.read_csv(FileAndPath, low_memory=False)\n",
    "    return(df2)"
   ]
  },
  {
   "cell_type": "code",
   "execution_count": 8,
   "metadata": {
    "collapsed": true
   },
   "outputs": [],
   "source": [
    "def FormatToPrevise(df2_1, df2_2):\n",
    "    # Dropping DATETime index to merge df1 and df2\n",
    "    df2_1 = df2_1.reset_index(drop=False)\n",
    "    df2_2 = df2_2.reset_index(drop=False)\n",
    "\n",
    "    # Converting Historian files to VTQ format (DATETime, TAGNAME, DESCRIPTION, VALUE)\n",
    "    mdf = pd.merge(pd.melt(df2_1, id_vars=['DATETIME'], var_name='TAGNAME',\n",
    "                           value_name='DESCRIPTION')[['TAGNAME', 'DESCRIPTION']],\n",
    "                   pd.melt(df2_2, id_vars=['DATETIME'], var_name='TAGNAME',\n",
    "                           value_name='VALUE'),\n",
    "                   on=['TAGNAME'])\n",
    "\n",
    "    # Sort columns by VTQ format\n",
    "    mdf = mdf[['DATETIME', 'TAGNAME', 'DESCRIPTION', 'VALUE']]\n",
    "    \n",
    "    return (mdf)"
   ]
  },
  {
   "cell_type": "code",
   "execution_count": 9,
   "metadata": {
    "collapsed": true
   },
   "outputs": [],
   "source": [
    "def SplitPreviseFormatCSVFile(mdf):\n",
    "    # Exporting PHD Tag CSV file\n",
    "    i = 0\n",
    "    rows = 1000000\n",
    "    totalRows = len(mdf)\n",
    "    loops = math.ceil(totalRows/rows) + 1\n",
    "\n",
    "    if totalRows > 1000000:\n",
    "        for j in range(loops): #need to round this\n",
    "            j = j + 1\n",
    "            print (str(j))\n",
    "            a = (rows*j) - rows\n",
    "            if totalRows <= rows:\n",
    "                b = totalRows\n",
    "                print('Exporting ' + str(CSVFileList[i].replace('.csv', '')) + ' Historian File')\n",
    "                print(\"\")\n",
    "                mdf[a:b].to_csv(FinalPath + '/' + str(CSVFileList[i].replace('.csv', '')) + '_Formatted.csv', index=False)\n",
    "            else:\n",
    "                if (rows*j) >= totalRows:\n",
    "                    b = totalRows\n",
    "                    print('Exporting ' + str(CSVFileList[i].replace('.csv', '')) + ' chunk' + str(j) + ' Historian File')\n",
    "                    print(\"\")\n",
    "                    mdf[a:b].to_csv(FinalPath + '/' + str(CSVFileList[i].replace('.csv', '')) + '_Formatted_chunk' + str(j) + '.csv', index=False)\n",
    "                else:\n",
    "                    b = (rows*j) - 1\n",
    "                    print('Exporting ' + str(CSVFileList[i].replace('.csv', '')) + ' chunk' + str(j) + ' Historian File')\n",
    "                    print(\"\")\n",
    "                    mdf[a:b].to_csv(FinalPath + '/' + str(CSVFileList[i].replace('.csv', '')) + '_Formatted_chunk' + str(j) + '.csv', index=False)\n",
    "    else:\n",
    "        mdf.to_csv(FinalPath + '/' + str(CSVFileList[0].replace('.csv', '')) + '_Formatted' + '.csv', index=False)\n",
    "    return"
   ]
  }
 ],
 "metadata": {
  "anaconda-cloud": {},
  "kernelspec": {
   "display_name": "Python 3",
   "language": "python",
   "name": "python3"
  },
  "language_info": {
   "codemirror_mode": {
    "name": "ipython",
    "version": 3
   },
   "file_extension": ".py",
   "mimetype": "text/x-python",
   "name": "python",
   "nbconvert_exporter": "python",
   "pygments_lexer": "ipython3",
   "version": "3.6.1"
  }
 },
 "nbformat": 4,
 "nbformat_minor": 1
}
