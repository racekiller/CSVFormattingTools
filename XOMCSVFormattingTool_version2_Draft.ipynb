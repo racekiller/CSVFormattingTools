{
 "cells": [
  {
   "cell_type": "code",
   "execution_count": 19,
   "metadata": {
    "collapsed": true
   },
   "outputs": [],
   "source": [
    "from os import listdir\n",
    "import pandas as pd\n",
    "# In[2]:\n",
    "CSVFileList = []\n",
    "NanPHDTagList = []"
   ]
  },
  {
   "cell_type": "code",
   "execution_count": 20,
   "metadata": {
    "collapsed": true
   },
   "outputs": [],
   "source": [
    "CSVPath1 = 'C:/Users/jvivas/Dropbox/Mtell Customer Projects/XOM BayTown RHC MEA Tower Foaming/Sensor Data/' \\\n",
    "           'To be Processed'"
   ]
  },
  {
   "cell_type": "code",
   "execution_count": 21,
   "metadata": {
    "collapsed": true
   },
   "outputs": [],
   "source": [
    "CSVPathFormat = 'C:/Users/jvivas/Dropbox/Mtell Customer Projects/XOM BayTown RHC MEA Tower Foaming/Sensor Data/Formatted'"
   ]
  },
  {
   "cell_type": "code",
   "execution_count": 22,
   "metadata": {
    "collapsed": true
   },
   "outputs": [],
   "source": [
    "# In[3]:\n",
    "CSVFileListAll = listdir(CSVPath1)\n",
    "m = len(CSVFileListAll)\n",
    "for i in range(m):\n",
    "    fileNameStr = CSVFileListAll[i]\n",
    "    fileStr = fileNameStr.split('.')[0]\n",
    "    fileExt = fileNameStr.split('.')[1]\n",
    "    if fileExt == \"csv\":\n",
    "        CSVFileList.append(fileNameStr)"
   ]
  },
  {
   "cell_type": "code",
   "execution_count": 23,
   "metadata": {
    "collapsed": true
   },
   "outputs": [],
   "source": [
    "n = len(CSVFileList)"
   ]
  },
  {
   "cell_type": "code",
   "execution_count": 24,
   "metadata": {
    "collapsed": false
   },
   "outputs": [
    {
     "name": "stdout",
     "output_type": "stream",
     "text": [
      "Loading Segment: Feed_modified.csv\n",
      "Exporting Feed_modified Historian File\n",
      "\n",
      "Loading Segment: GF_modified.csv\n",
      "Exporting GF_modified Historian File\n",
      "\n"
     ]
    }
   ],
   "source": [
    "for i in range(n):\n",
    "    csvfile = CSVPath1 + \"/\" + CSVFileList[i]\n",
    "    print(\"Loading Segment: %s\" % CSVFileList[i])\n",
    "    \n",
    "    # In[43]:\n",
    "    df = pd.read_csv(csvfile, index_col=False, sep=',', low_memory=False)\n",
    "\n",
    "    # In[44]:\n",
    "    # Concatenate DATE and TIME Column\n",
    "    df['DATETIME2'] = df['DATE'] + ' ' + df['TIME']\n",
    "\n",
    "    # Replace the \"-\" in case datetime is following format: \"05-Jan-2015\"\n",
    "    df['DATETIME2'].replace({'-': ''}, inplace=True, regex=True)\n",
    "    # In[51]:\n",
    "    # Change new datetime column to datetime format\n",
    "    df['DATETIME2'] = pd.to_datetime(df['DATETIME2'], format=\"%d%b%y %H:%M:%S\")\n",
    "\n",
    "    # In[53]:\n",
    "    # Change datetime column format to look like 01/31/2015 0:00:00\n",
    "    df['DATETIME2'] = df['DATETIME2'].dt.strftime('%m/%d/%Y %H:%M:%S')\n",
    "\n",
    "    # In[59]:\n",
    "    # Work around to move datetime column to be the first column in the dataset\n",
    "    df['DATE'] = df['DATETIME2']\n",
    "\n",
    "    # In[63]:\n",
    "    # Rename DATE column to DATETIME\n",
    "    df = df.rename(columns={'DATE': 'DATETIME'})\n",
    "\n",
    "    # In[61]:\n",
    "    # Delete unnecessary columns\n",
    "    del df['TIME']\n",
    "    del df['DATETIME2']\n",
    "\n",
    "    # Code to do Transposing\n",
    "    # Create two dataframes df1 only with tags and descriptions. df2 tag with values\n",
    "    df1 = df[0:1]  # FIRST ROW\n",
    "    df2 = df[1:len(df)]  # SECOND TO LAST ROW\n",
    "\n",
    "    # Converting Historian files to VTQ format (DATETIME, TAGNAME, DESCRIPTION, VALUE)\n",
    "    mdf = pd.merge(pd.melt(df1, id_vars=['DATETIME'], var_name='TAGNAME',\n",
    "                           value_name='DESCRIPTION')[['TAGNAME', 'DESCRIPTION']],\n",
    "                   pd.melt(df2, id_vars=['DATETIME'], var_name='TAGNAME',\n",
    "                           value_name='VALUE'), on=['TAGNAME'])\n",
    "\n",
    "    # Sort columns by VTQ format\n",
    "    mdf = mdf[['DATETIME', 'TAGNAME', 'DESCRIPTION', 'VALUE']]\n",
    "\n",
    "    print('Exporting ' + str(CSVFileList[i].replace('.csv', '')) + ' Historian File')\n",
    "    print(\"\")\n",
    "\n",
    "    # Exporting PHD Tag CSV file\n",
    "    mdf.to_csv(CSVPath1 + '/' + str(CSVFileList[i].replace('.csv', '')) + '_Formatted.csv', index=False)"
   ]
  }
 ],
 "metadata": {
  "kernelspec": {
   "display_name": "Python [Root]",
   "language": "python",
   "name": "Python [Root]"
  },
  "language_info": {
   "codemirror_mode": {
    "name": "ipython",
    "version": 3
   },
   "file_extension": ".py",
   "mimetype": "text/x-python",
   "name": "python",
   "nbconvert_exporter": "python",
   "pygments_lexer": "ipython3",
   "version": "3.5.2"
  }
 },
 "nbformat": 4,
 "nbformat_minor": 0
}
