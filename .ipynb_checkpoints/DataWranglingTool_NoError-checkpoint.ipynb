{
 "cells": [
  {
   "cell_type": "code",
   "execution_count": null,
   "metadata": {
    "collapsed": true
   },
   "outputs": [],
   "source": [
    "# latest update\n",
    "# October 1st 2017\n",
    "# Changes done by: Jimmy Vivas\n",
    "# Added code description\n",
    "\n",
    "# This code was developed by Jimmy Vivas\n",
    "\n",
    "# The code will take all CSv files from a specific directory and process them at the same Time\n",
    "# The program will need manual input to replace strings found for numeric data or null value\n",
    "#   It will assign an integer value for each distinct string for each column (sensor)\n",
    "# The code will generate as many csv files pero 1MM rows"
   ]
  },
  {
   "cell_type": "markdown",
   "metadata": {},
   "source": [
    "# STEP 1 -. Update the path where the CSV files to be processed is located"
   ]
  },
  {
   "cell_type": "markdown",
   "metadata": {},
   "source": [
    "\n",
    "### Create two folders\n",
    "#### Folder 1 = CSVPAath1 is where the CSV file to be processed is located\n",
    "#### Folder 2 = FinalPath is where all the files processed will be created"
   ]
  },
  {
   "cell_type": "code",
   "execution_count": 1,
   "metadata": {
    "collapsed": true
   },
   "outputs": [],
   "source": [
    "# Windows Path\n",
    "CSVPath1 = 'C:/Users/vivasj/Documents/Aspen/MOTIVA/to be processed'\n",
    "FinalPath = 'C:/Users/vivasj/Documents/Aspen/MOTIVA/processed'"
   ]
  },
  {
   "cell_type": "markdown",
   "metadata": {},
   "source": [
    "# STEP 2-. Find characters in CSV file"
   ]
  },
  {
   "cell_type": "code",
   "execution_count": 2,
   "metadata": {
    "collapsed": true
   },
   "outputs": [],
   "source": [
    "from utils import *"
   ]
  },
  {
   "cell_type": "code",
   "execution_count": 3,
   "metadata": {},
   "outputs": [
    {
     "name": "stdout",
     "output_type": "stream",
     "text": [
      "Loading Motiva PoC - Master Tag Data Prep_Rev1_SF2 - Data 3 -2014 TEST.csv\n",
      "Renaming date and time column\n",
      "Applying date and time format\n",
      "Extracting strings from csv file\n",
      "Converting df to numeric\n",
      "Total columns with text: Index(['9AI1296C.DACA.PV', '9FC1234.DACA.PV', '9FC1234.PIDA.OP',\n",
      "       '9FC1234.PIDA.SP', '9FC3642.DACA.PV', '9FC3642.PIDA.OP',\n",
      "       '9FC3642.PIDA.SP', '9FC3649.DACA.PV', '9FC3649.PIDA.OP',\n",
      "       '9FC3649.PIDA.SP',\n",
      "       ...\n",
      "       '9ZI0506.PV', '9ZI0509.PV', '9ZI0512.PV', '9ZI0515.PV', '9ZL3645.PV',\n",
      "       '9ZL3646.PV', '9ZL3776.PV', '9ZL3777.PV', '9ZL3876.PV', '9ZL3877.PV'],\n",
      "      dtype='object', length=414)\n",
      "Sensors with text in their Values: ['9HS0332.FLAGA.PV', '9HS0394.FLAGA.PV', '9HS0456.FLAGA.PV', '9HS0871.PV', '9HS0873.PV', '9HS0875.PV', '9HS3624.PV', '9HS3632A.PV', '9HS3632B.PV', '9HS3653A.PV', '9HS3653B.PV', '9HS3655A.PV', '9HS3666.PV', '9HS3753A.PV', '9HS3753B.PV', '9HS3754A.PV', '9HS3754B.PV', '9HS3853A.PV', '9HS3853B.PV', '9HS3854A.PV', '9HS3854B.PV', '9HS3883A.PV', '9HS3883B.PV', '9HS3892.PV', '9LAH0308.FLAGA.PV', '9XA3971P.PV', '9ZL3645.PV', '9ZL3646.PV', '9ZL3776.PV', '9ZL3777.PV', '9ZL3876.PV', '9ZL3877.PV']\n",
      "Processing Sensor: 9HS0332.FLAGA.PV\n",
      "These are all the strings found in Sensor 9HS0332.FLAGA.PV: ['OFF']\n",
      "Processing Sensor: 9HS0394.FLAGA.PV\n",
      "These are all the strings found in Sensor 9HS0394.FLAGA.PV: ['OFF']\n",
      "Processing Sensor: 9HS0456.FLAGA.PV\n",
      "These are all the strings found in Sensor 9HS0456.FLAGA.PV: ['OFF']\n",
      "Processing Sensor: 9HS0871.PV\n",
      "These are all the strings found in Sensor 9HS0871.PV: ['Normal']\n",
      "Processing Sensor: 9HS0873.PV\n",
      "These are all the strings found in Sensor 9HS0873.PV: ['Normal']\n",
      "Processing Sensor: 9HS0875.PV\n",
      "These are all the strings found in Sensor 9HS0875.PV: ['Normal']\n",
      "Processing Sensor: 9HS3624.PV\n",
      "These are all the strings found in Sensor 9HS3624.PV: ['RUN']\n",
      "Processing Sensor: 9HS3632A.PV\n",
      "These are all the strings found in Sensor 9HS3632A.PV: ['RUN']\n",
      "Processing Sensor: 9HS3632B.PV\n",
      "These are all the strings found in Sensor 9HS3632B.PV: ['RUN']\n",
      "Processing Sensor: 9HS3653A.PV\n",
      "These are all the strings found in Sensor 9HS3653A.PV: ['RUN']\n",
      "Processing Sensor: 9HS3653B.PV\n",
      "These are all the strings found in Sensor 9HS3653B.PV: ['RUN']\n",
      "Processing Sensor: 9HS3655A.PV\n",
      "These are all the strings found in Sensor 9HS3655A.PV: ['RUN']\n",
      "Processing Sensor: 9HS3666.PV\n",
      "These are all the strings found in Sensor 9HS3666.PV: ['RUN']\n",
      "Processing Sensor: 9HS3753A.PV\n",
      "These are all the strings found in Sensor 9HS3753A.PV: ['RUN']\n",
      "Processing Sensor: 9HS3753B.PV\n",
      "These are all the strings found in Sensor 9HS3753B.PV: ['RUN']\n",
      "Processing Sensor: 9HS3754A.PV\n",
      "These are all the strings found in Sensor 9HS3754A.PV: ['RUN']\n",
      "Processing Sensor: 9HS3754B.PV\n",
      "These are all the strings found in Sensor 9HS3754B.PV: ['RUN']\n",
      "Processing Sensor: 9HS3853A.PV\n",
      "These are all the strings found in Sensor 9HS3853A.PV: ['STOP']\n",
      "Processing Sensor: 9HS3853B.PV\n",
      "These are all the strings found in Sensor 9HS3853B.PV: ['STOP']\n",
      "Processing Sensor: 9HS3854A.PV\n",
      "These are all the strings found in Sensor 9HS3854A.PV: ['STOP']\n",
      "Processing Sensor: 9HS3854B.PV\n",
      "These are all the strings found in Sensor 9HS3854B.PV: ['STOP']\n",
      "Processing Sensor: 9HS3883A.PV\n",
      "These are all the strings found in Sensor 9HS3883A.PV: ['STOP']\n",
      "Processing Sensor: 9HS3883B.PV\n",
      "These are all the strings found in Sensor 9HS3883B.PV: ['STOP']\n",
      "Processing Sensor: 9HS3892.PV\n",
      "These are all the strings found in Sensor 9HS3892.PV: ['STOP']\n",
      "Processing Sensor: 9LAH0308.FLAGA.PV\n",
      "These are all the strings found in Sensor 9LAH0308.FLAGA.PV: ['Normal']\n",
      "Processing Sensor: 9XA3971P.PV\n",
      "These are all the strings found in Sensor 9XA3971P.PV: ['NOT_OK']\n",
      "Processing Sensor: 9ZL3645.PV\n",
      "These are all the strings found in Sensor 9ZL3645.PV: ['NOT_OPEN']\n",
      "Processing Sensor: 9ZL3646.PV\n",
      "These are all the strings found in Sensor 9ZL3646.PV: ['NOT_OPEN']\n",
      "Processing Sensor: 9ZL3776.PV\n",
      "These are all the strings found in Sensor 9ZL3776.PV: ['CLOSE']\n",
      "Processing Sensor: 9ZL3777.PV\n",
      "These are all the strings found in Sensor 9ZL3777.PV: ['CLOSE']\n",
      "Processing Sensor: 9ZL3876.PV\n",
      "These are all the strings found in Sensor 9ZL3876.PV: ['CLOSE']\n",
      "Processing Sensor: 9ZL3877.PV\n",
      "These are all the strings found in Sensor 9ZL3877.PV: ['CLOSE']\n",
      "These are all the strings found in the csv file: ['RUN', 'CLOSE', 'NOT_OK', 'STOP', 'Normal', 'NOT_OPEN', 'OFF']\n"
     ]
    },
    {
     "data": {
      "text/plain": [
       "{'CLOSE': 'null',\n",
       " 'NOT_OK': 'null',\n",
       " 'NOT_OPEN': 'null',\n",
       " 'Normal': 'null',\n",
       " 'OFF': 'null',\n",
       " 'RUN': 'null',\n",
       " 'STOP': 'null'}"
      ]
     },
     "execution_count": 3,
     "metadata": {},
     "output_type": "execute_result"
    }
   ],
   "source": [
    "CSVFileList = GetCSVList(CSVPath1)\n",
    "\n",
    "CSVFile = CSVFileList[0]\n",
    "CSVFileWithPath = CSVPath1 + \"/\" + CSVFileList[0]\n",
    "\n",
    "csvFileSizeGB = GetFileSize(CSVFileWithPath)\n",
    "\n",
    "if csvFileSizeGB > 1:\n",
    "    StringListForAllSensors = SplitCSVFile_GetStrings(CSVFileWithPath, CSVFile)\n",
    "    print ('These are all the strings found in the file: ' + str(StringListForAllSensors))\n",
    "else:\n",
    "    \n",
    "    df2 = LoadCSV(CSVFileWithPath, CSVFile)\n",
    "    \n",
    "    # Rename date and time column\n",
    "    print ('Renaming date and time column')\n",
    "    RenameColumn(df2)\n",
    "    # Apply Date and time format to dataframe\n",
    "    print ('Applying date and time format')\n",
    "    ApplyDateFormat(df2)\n",
    "    \n",
    "    # Apply Index and create two dataframes\n",
    "    df2_1, df2_2 = SetIndex(df2)\n",
    "    \n",
    "    print ('Extracting strings from csv file')\n",
    "    StringListForAllSensors = ExtractStrings(df2_1, df2_2)\n",
    "    \n",
    "    print ('These are all the strings found in the csv file: ' + str(StringListForAllSensors))\n",
    "\n",
    "# Convert all strings to a Dictionary\n",
    "StringListDict = {}.fromkeys(StringListForAllSensors, 'null')\n",
    "\n",
    "# print (\"# Run following line to see the list of Strings\")\n",
    "## Copy the result and paste it in the following line of code\")\n",
    "StringListDict"
   ]
  },
  {
   "cell_type": "markdown",
   "metadata": {},
   "source": [
    "# STEP 3 - Replace null with Integers if necessary"
   ]
  },
  {
   "cell_type": "code",
   "execution_count": 6,
   "metadata": {},
   "outputs": [],
   "source": [
    "StringListDict = {\n",
    " 'CLOSE': 0,\n",
    " 'NOT_OK': 0,\n",
    " 'NOT_OPEN': 0,\n",
    " 'Normal': 0,\n",
    " 'OFF': 0,\n",
    " 'RUN': 1,\n",
    " 'STOP': 0}"
   ]
  },
  {
   "cell_type": "markdown",
   "metadata": {},
   "source": [
    "# STEP 4 -. Export processed files"
   ]
  },
  {
   "cell_type": "code",
   "execution_count": 7,
   "metadata": {},
   "outputs": [
    {
     "name": "stdout",
     "output_type": "stream",
     "text": [
      "Creating CSV per TagName\n",
      "Creating CSVs to be imported into Aspen Mtell\n"
     ]
    }
   ],
   "source": [
    "# Replacing known test to null\n",
    "df2_2 = ReplaceStrings(df2_2, StringListDict)\n",
    "\n",
    "# Create dataframe to export individual tags\n",
    "df_final = pd.concat([df2_1, df2_2])\n",
    "\n",
    "# Export Individual Tags to CSV\n",
    "print(\"Creating CSV per TagName\")\n",
    "ExportTagNamesToCSV(df_final,FinalPath)\n",
    "\n",
    "# Merge dataframes to export to CSV\n",
    "mdf = FormatToPrevise(df2_1,df2_2)\n",
    "\n",
    "# Check format data to be exportedaa\n",
    "mdf.head(25)\n",
    "\n",
    "# Export to CSV\n",
    "print ('Creating CSVs to be imported into Aspen Mtell')\n",
    "SplitPreviseFormatCSVFile(mdf,CSVFileList,FinalPath)\n",
    "\n",
    "print(\"Done, check the processed folder\")"
   ]
  },
  {
   "cell_type": "code",
   "execution_count": null,
   "metadata": {
    "collapsed": true
   },
   "outputs": [],
   "source": []
  }
 ],
 "metadata": {
  "anaconda-cloud": {},
  "kernelspec": {
   "display_name": "Python 3",
   "language": "python",
   "name": "python3"
  },
  "language_info": {
   "codemirror_mode": {
    "name": "ipython",
    "version": 3
   },
   "file_extension": ".py",
   "mimetype": "text/x-python",
   "name": "python",
   "nbconvert_exporter": "python",
   "pygments_lexer": "ipython3",
   "version": "3.6.1"
  }
 },
 "nbformat": 4,
 "nbformat_minor": 1
}
