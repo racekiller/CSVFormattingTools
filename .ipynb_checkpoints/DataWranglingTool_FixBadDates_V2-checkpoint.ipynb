{
 "cells": [
  {
   "cell_type": "code",
   "execution_count": 1,
   "metadata": {
    "collapsed": true
   },
   "outputs": [],
   "source": [
    "# latest update\n",
    "# June 27, 2017\n",
    "# Changes done by: Jimmy Vivas\n",
    "\n",
    "# This code was developed by Jimmy Vivas for Aspen Technology\n",
    "# For Shell case, they created one file per month and a folder per tag\n",
    "\n",
    "# The code will take all files within sub folders but it wont process files located in the root folder\n",
    "# The colde will take the file name as a tagname and look for that tagname in a tag dictionary file\n",
    "# Then it will add the tagname and tag description to the CSV file for each file wihtin sub folders\n",
    "# The code will merge all individual csv files (monthly files) to be one single file"
   ]
  },
  {
   "cell_type": "code",
   "execution_count": 2,
   "metadata": {
    "collapsed": false
   },
   "outputs": [],
   "source": [
    "from os import listdir\n",
    "from os import walk\n",
    "import pandas as pd\n",
    "import math\n",
    "import numpy as np\n",
    "#disabling chained mode to be able to update datetime with fixed data\n",
    "pd.options.mode.chained_assignment = None  # default='warn'"
   ]
  },
  {
   "cell_type": "code",
   "execution_count": 3,
   "metadata": {
    "collapsed": true
   },
   "outputs": [],
   "source": [
    "# mac Path\n",
    "#CSVPath1 =  '/Users/jvivas/Documents/XMT Baytwon Sensor Data' \\\n",
    "#            '/Sensor Data/Testing'\n",
    "\n",
    "CSVPath1 = '/Users/jvivas/Documents/Aspen/ALCOA/data'\n",
    "CSVMetaDataFile = '/Users/jvivas/Documents/Aspen/ALCOA/Metadata/Data Dictionary.csv'\n",
    "CSVPathProcessed = '/Users/jvivas/Documents/Aspen/ALCOA/data'\n",
    "\n",
    "# Windows Path\n",
    "# CSVPath1 = 'C:/Users/jvivas/Dropbox/Mtell Customer Projects/XOM BayTown RHC MEA Tower Foaming/Sensor Data/' \\\n",
    "#           'To be Processed'\n",
    "\n",
    "# CSVPath1 = 'C:/Mtell/Projects/XOM Baytown POC/Sensor Data/ToBeFormatted'"
   ]
  },
  {
   "cell_type": "code",
   "execution_count": 4,
   "metadata": {
    "collapsed": true
   },
   "outputs": [],
   "source": [
    "def GetCSV(CSVPath):\n",
    "    CSVFileList = []\n",
    "    NanPHDTagList = []\n",
    "    CSVFileListAll = listdir(CSVPath)\n",
    "\n",
    "    m = len(CSVFileListAll)\n",
    "\n",
    "    for i in range(m):\n",
    "        fileNameStr = CSVFileListAll[i]\n",
    "        fileStr = fileNameStr[:-4]\n",
    "        fileExt = fileNameStr[-3:]\n",
    "        if fileExt == \"csv\":\n",
    "            CSVFileList.append(fileNameStr)\n",
    "\n",
    "    n = len(CSVFileList)\n",
    "    return(n, CSVFileList)"
   ]
  },
  {
   "cell_type": "code",
   "execution_count": 5,
   "metadata": {
    "collapsed": false
   },
   "outputs": [],
   "source": [
    "def GetExcels(CSVPath):\n",
    "    CSVFileList = []\n",
    "    NanPHDTagList = []\n",
    "    CSVFileListAll = listdir(CSVPath)\n",
    "\n",
    "    m = len(CSVFileListAll)\n",
    "\n",
    "    for i in range(m):\n",
    "        fileNameStr = CSVFileListAll[i]\n",
    "        fileStr = fileNameStr[:-5]\n",
    "        fileExt = fileNameStr[-4:]\n",
    "        if fileExt == \"xlsx\":\n",
    "            CSVFileList.append(fileNameStr)\n",
    "\n",
    "    n = len(CSVFileList)\n",
    "    return(n, CSVFileList)"
   ]
  },
  {
   "cell_type": "code",
   "execution_count": 6,
   "metadata": {
    "collapsed": true
   },
   "outputs": [],
   "source": [
    "def LoadCSV(FileAndPath, file):\n",
    "    print ('Loading ' + file)\n",
    "    df2 = pd.read_csv(FileAndPath+'/'+file, low_memory=False, header=None)\n",
    "    df2.columns = ['DATETIME','VALUE']\n",
    "    return(df2)"
   ]
  },
  {
   "cell_type": "code",
   "execution_count": 7,
   "metadata": {
    "collapsed": false
   },
   "outputs": [],
   "source": [
    "def GetTagName(CSVFileName):\n",
    "    \n",
    "    TagName = CSVFileName[:CSVFileName.find('-')]\n",
    "    return(TagName)"
   ]
  },
  {
   "cell_type": "code",
   "execution_count": 8,
   "metadata": {
    "collapsed": true
   },
   "outputs": [],
   "source": [
    "def LoadExcel(FileAndPath, file):\n",
    "    \n",
    "    print('Loading Excel File ' + file)\n",
    "    xls = pd.ExcelFile(FileAndPath + '/' + file, low_memory=False)\n",
    "    print('Loading multiple sheets')\n",
    "    df1_2014 = pd.read_excel(xls, '2014',names=['DATETIME','VALUE'],header=None)\n",
    "    df1_2015 = pd.read_excel(xls, '2015',names=['DATETIME','VALUE'],header=None)\n",
    "    df1_2016 = pd.read_excel(xls, '2016',names=['DATETIME','VALUE'],header=None)\n",
    "    df1_2017 = pd.read_excel(xls, '2017',names=['DATETIME','VALUE'],header=None)\n",
    "\n",
    "    frames = [df1_2014, df1_2015, df1_2016]\n",
    "\n",
    "    result = pd.concat(frames)\n",
    "    print('Done importing Excel file')\n",
    "    return(result)"
   ]
  },
  {
   "cell_type": "markdown",
   "metadata": {},
   "source": [
    "# This is the Main Code to execute"
   ]
  },
  {
   "cell_type": "code",
   "execution_count": 9,
   "metadata": {
    "collapsed": false
   },
   "outputs": [
    {
     "name": "stdout",
     "output_type": "stream",
     "text": [
      "Loading Tagname Metadata\n",
      "Loading WAC2_CTL._CV53.READVALUE-2014.csv\n",
      "Getting TagName\n",
      "Getting TagDescription\n",
      "Adding Tag name and description to CSV file\n",
      "Tagname: WAC2_CTL._CV53.READVALUE Processed\n",
      "Loading WAC2_CTL._CV53.READVALUE-2015.csv\n",
      "Getting TagName\n",
      "Getting TagDescription\n",
      "Adding Tag name and description to CSV file\n",
      "Tagname: WAC2_CTL._CV53.READVALUE Processed\n",
      "Loading WAC2_CTL._CV53.READVALUE-2016.csv\n",
      "Getting TagName\n",
      "Getting TagDescription\n",
      "Adding Tag name and description to CSV file\n",
      "Tagname: WAC2_CTL._CV53.READVALUE Processed\n"
     ]
    }
   ],
   "source": [
    "print ('Loading Tagname Metadata')\n",
    "TagMetaDataDF = pd.read_csv(CSVMetaDataFile, low_memory=False)\n",
    "\n",
    "CSVFinalPath = CSVPath1\n",
    "n, CSVFileList = GetCSV(CSVFinalPath)\n",
    "\n",
    "i = 0\n",
    "for i in range(n):\n",
    "    CSVFile = CSVFileList[i]\n",
    "    # CSVFileWithPath = CSVPath1 + \"/\" + CSVFileList[i]\n",
    "\n",
    "    df2 = LoadCSV(CSVFinalPath, CSVFile)\n",
    "\n",
    "    print ('Getting TagName')\n",
    "    TagName = GetTagName(CSVFile)\n",
    "    \n",
    "    print('Getting TagDescription')\n",
    "    TagDescription = TagMetaDataDF.loc[TagMetaDataDF['TagName'] == TagName, 'TagDescription'].values[0]\n",
    "    \n",
    "    print ('Adding Tag name and description to CSV file')\n",
    "\n",
    "    df2['TagName'] = TagName\n",
    "    df2['TagDescription'] = TagDescription\n",
    "    \n",
    "    for index, row in df2[np.column_stack([df2['DATETIME'].str.contains(r\"\\PM|AM\", na=False)])].iterrows():\n",
    "        BadDateStr = df2[np.column_stack([df2['DATETIME'].str.contains(r\"\\PM|AM\", na=False)])]['DATETIME'][index]\n",
    "        IndexFirstSlash = BadDateStr.find(\"/\")\n",
    "        IndexSecondSlash = BadDateStr.find(\"/\",IndexFirstSlash+1)\n",
    "        # print(IndexFirstSlash)\n",
    "        # print(IndexSecondSlash)\n",
    "        # print(BadDateStr[:IndexFirstSlash])\n",
    "        # print(BadDateStr[IndexFirstSlash+1:IndexSecondSlash])\n",
    "        Len = len(BadDateStr)\n",
    "        # print(len(BadDateStr))\n",
    "        # print(BadDateStr[IndexSecondSlash:Len])\n",
    "        # print(BadDateStr[IndexFirstSlash+1:IndexSecondSlash]+'/'+BadDateStr[:IndexFirstSlash]+'/'+BadDateStr[IndexSecondSlash+1:Len])\n",
    "        df2['DATETIME'][index] = BadDateStr[IndexFirstSlash+1:IndexSecondSlash]+'/'+BadDateStr[:IndexFirstSlash]+'/'+BadDateStr[IndexSecondSlash+1:Len]\n",
    "    \n",
    "    df2.to_csv(CSVPathProcessed + '/' + str(CSVFile.replace('.csv', '')) + '_Formatted.csv', index=False)\n",
    "    print ('Tagname: ' + TagName + ' Processed')\n"
   ]
  },
  {
   "cell_type": "code",
   "execution_count": null,
   "metadata": {
    "collapsed": true
   },
   "outputs": [],
   "source": []
  }
 ],
 "metadata": {
  "anaconda-cloud": {},
  "kernelspec": {
   "display_name": "Python [conda root]",
   "language": "python",
   "name": "conda-root-py"
  },
  "language_info": {
   "codemirror_mode": {
    "name": "ipython",
    "version": 3
   },
   "file_extension": ".py",
   "mimetype": "text/x-python",
   "name": "python",
   "nbconvert_exporter": "python",
   "pygments_lexer": "ipython3",
   "version": "3.5.2"
  }
 },
 "nbformat": 4,
 "nbformat_minor": 0
}
