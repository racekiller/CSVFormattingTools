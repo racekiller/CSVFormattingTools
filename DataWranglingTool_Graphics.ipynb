{
 "cells": [
  {
   "cell_type": "code",
   "execution_count": 1,
   "metadata": {
    "collapsed": true
   },
   "outputs": [],
   "source": [
    "# latest update\n",
    "# October 1st 2017\n",
    "# Changes done by: Jimmy Vivas\n",
    "# Added code description\n",
    "\n",
    "# This code was developed by Jimmy Vivas\n",
    "\n",
    "# The code will take all CSv files from a specific directory and process them at the same Time\n",
    "# The program will need manual input to replace strings found for numeric data or null value\n",
    "#   It will assign an integer value for each distinct string for each column (sensor)\n",
    "# The code will generate as many csv files pero 1MM rows"
   ]
  },
  {
   "cell_type": "markdown",
   "metadata": {},
   "source": [
    "# STEP 1 -. Update the path where the CSV file is located and hit SHIFT + ENTER"
   ]
  },
  {
   "cell_type": "markdown",
   "metadata": {},
   "source": [
    "\n",
    "### Create two folders\n",
    "#### Folder 1 = CSVPAath1 is where the CSV file to be processed is located\n",
    "#### Folder 2 = FinalPath is where all the files processed will be created"
   ]
  },
  {
   "cell_type": "code",
   "execution_count": 2,
   "metadata": {
    "collapsed": true
   },
   "outputs": [],
   "source": [
    "# My Mac Path\n",
    "CSVPath1 = '/Users/jvivas/Documents/Aspen/PTT/Sensor Data/C002B/to be processed'\n",
    "FinalPath = '/Users/jvivas/Documents/Aspen/PTT/Sensor Data/C002B/processed'"
   ]
  },
  {
   "cell_type": "markdown",
   "metadata": {},
   "source": [
    "# STEP 2-. Execute Next line Hitting Shift+ENTER"
   ]
  },
  {
   "cell_type": "code",
   "execution_count": 3,
   "metadata": {
    "collapsed": true
   },
   "outputs": [],
   "source": [
    "from utils import *"
   ]
  },
  {
   "cell_type": "code",
   "execution_count": 4,
   "metadata": {
    "collapsed": false
   },
   "outputs": [
    {
     "name": "stdout",
     "output_type": "stream",
     "text": [
      "Loading 200C2_Fixed_DateFormat_6Columns_Small.csv\n",
      "Renaming date and time column\n",
      "Applying date and time format\n",
      "Extracting strings from csv file\n",
      "Converting df to numeric\n",
      "Total columns with text: Index(['A1-200TI727HA.PV', '100TI97.PV', '200PI53.PV', '200TI371.PV',\n",
      "       '200TI348.PV', '200TI347.PV'],\n",
      "      dtype='object')\n",
      "Sensors with text in their Values: ['A1-200TI727HA.PV']\n",
      "Processing Sensor: A1-200TI727HA.PV\n",
      "These are all the strings found in Sensor A1-200TI727HA.PV: ['No Data']\n",
      "These are all the strings found in the csv file: ['No Data']\n"
     ]
    },
    {
     "data": {
      "text/plain": [
       "{'No Data': 'null'}"
      ]
     },
     "execution_count": 4,
     "metadata": {},
     "output_type": "execute_result"
    }
   ],
   "source": [
    "CSVFileList = GetCSVList(CSVPath1)\n",
    "\n",
    "CSVFile = CSVFileList[0]\n",
    "CSVFileWithPath = CSVPath1 + \"/\" + CSVFileList[0]\n",
    "\n",
    "csvFileSizeGB = GetFileSize(CSVFileWithPath)\n",
    "\n",
    "if csvFileSizeGB > 1:\n",
    "    StringListForAllSensors = SplitCSVFile_GetStrings(CSVFileWithPath, CSVFile)\n",
    "    print ('These are all the strings found in the file: ' + str(StringListForAllSensors))\n",
    "else:\n",
    "    \n",
    "    df2 = LoadCSV(CSVFileWithPath, CSVFile)\n",
    "    \n",
    "    # Rename date and time column\n",
    "    print ('Renaming date and time column')\n",
    "    RenameColumn(df2)\n",
    "    # Apply Date and time format to dataframe\n",
    "    print ('Applying date and time format')\n",
    "    ApplyDateFormat(df2)\n",
    "    \n",
    "    # Apply Index and create two dataframes\n",
    "    df2_1, df2_2 = SetIndex(df2)\n",
    "    \n",
    "    print ('Extracting strings from csv file')\n",
    "    StringListForAllSensors = ExtractStrings(df2_1, df2_2)\n",
    "    \n",
    "    print ('These are all the strings found in the csv file: ' + str(StringListForAllSensors))\n",
    "\n",
    "# Convert all strings to a Dictionary\n",
    "StringListDict = {}.fromkeys(StringListForAllSensors, 'null')\n",
    "\n",
    "# print (\"# Run following line to see the list of Strings\")\n",
    "## Copy the result and paste it in the following line of code\")\n",
    "StringListDict"
   ]
  },
  {
   "cell_type": "markdown",
   "metadata": {},
   "source": [
    "# STEP 3 -. Copy the StringListDict and replace the null with the desired numeric data"
   ]
  },
  {
   "cell_type": "code",
   "execution_count": 5,
   "metadata": {
    "collapsed": false
   },
   "outputs": [
    {
     "name": "stdout",
     "output_type": "stream",
     "text": [
      "Creating CSV per TagName\n",
      "Creating CSVs to be imported into Aspen Mtell\n"
     ]
    }
   ],
   "source": [
    "# Replacing known test to null\n",
    "df2_2 = ReplaceStrings(df2_2, StringListDict)\n",
    "\n",
    "# Create dataframe to export individual tags\n",
    "df_final = pd.concat([df2_1, df2_2])\n",
    "\n",
    "# Export Individual Tags to CSV\n",
    "print(\"Creating CSV per TagName\")\n",
    "ExportTagNamesToCSV(df_final,FinalPath)\n",
    "\n",
    "# Merge dataframes to export to CSV\n",
    "mdf = FormatToPrevise(df2_1,df2_2)\n",
    "\n",
    "# Check format data to be exportedaa\n",
    "mdf.head(25)\n",
    "\n",
    "# Export to CSV\n",
    "print ('Creating CSVs to be imported into Aspen Mtell')\n",
    "SplitPreviseFormatCSVFile(mdf,CSVFileList,FinalPath)"
   ]
  },
  {
   "cell_type": "markdown",
   "metadata": {},
   "source": [
    "# Analytics"
   ]
  },
  {
   "cell_type": "code",
   "execution_count": 13,
   "metadata": {
    "collapsed": false
   },
   "outputs": [],
   "source": [
    "df_final_nan = df2_2.apply(lambda x: pd.to_numeric(x, errors='coerce'))"
   ]
  },
  {
   "cell_type": "code",
   "execution_count": 14,
   "metadata": {
    "collapsed": false
   },
   "outputs": [
    {
     "data": {
      "text/html": [
       "<div>\n",
       "<table border=\"1\" class=\"dataframe\">\n",
       "  <thead>\n",
       "    <tr style=\"text-align: right;\">\n",
       "      <th></th>\n",
       "      <th>A1-200TI727HA.PV</th>\n",
       "      <th>100TI97.PV</th>\n",
       "      <th>200PI53.PV</th>\n",
       "      <th>200TI371.PV</th>\n",
       "      <th>200TI348.PV</th>\n",
       "      <th>200TI347.PV</th>\n",
       "    </tr>\n",
       "    <tr>\n",
       "      <th>DATETIME</th>\n",
       "      <th></th>\n",
       "      <th></th>\n",
       "      <th></th>\n",
       "      <th></th>\n",
       "      <th></th>\n",
       "      <th></th>\n",
       "    </tr>\n",
       "  </thead>\n",
       "  <tbody>\n",
       "    <tr>\n",
       "      <th>1/1/2014 0:00</th>\n",
       "      <td>NaN</td>\n",
       "      <td>23.728256</td>\n",
       "      <td>2.518174</td>\n",
       "      <td>69.249283</td>\n",
       "      <td>60.885456</td>\n",
       "      <td>56.545738</td>\n",
       "    </tr>\n",
       "    <tr>\n",
       "      <th>1/1/2014 0:05</th>\n",
       "      <td>NaN</td>\n",
       "      <td>23.606651</td>\n",
       "      <td>2.508537</td>\n",
       "      <td>69.088890</td>\n",
       "      <td>60.658840</td>\n",
       "      <td>56.511757</td>\n",
       "    </tr>\n",
       "    <tr>\n",
       "      <th>1/1/2014 0:10</th>\n",
       "      <td>NaN</td>\n",
       "      <td>23.528124</td>\n",
       "      <td>2.502900</td>\n",
       "      <td>69.039642</td>\n",
       "      <td>60.466503</td>\n",
       "      <td>56.509052</td>\n",
       "    </tr>\n",
       "    <tr>\n",
       "      <th>1/1/2014 0:15</th>\n",
       "      <td>NaN</td>\n",
       "      <td>23.647432</td>\n",
       "      <td>2.497166</td>\n",
       "      <td>69.006332</td>\n",
       "      <td>60.593910</td>\n",
       "      <td>56.434353</td>\n",
       "    </tr>\n",
       "    <tr>\n",
       "      <th>1/1/2014 0:20</th>\n",
       "      <td>NaN</td>\n",
       "      <td>23.664402</td>\n",
       "      <td>2.491784</td>\n",
       "      <td>68.754303</td>\n",
       "      <td>60.740746</td>\n",
       "      <td>56.482708</td>\n",
       "    </tr>\n",
       "  </tbody>\n",
       "</table>\n",
       "</div>"
      ],
      "text/plain": [
       "               A1-200TI727HA.PV  100TI97.PV  200PI53.PV  200TI371.PV  \\\n",
       "DATETIME                                                               \n",
       "1/1/2014 0:00               NaN   23.728256    2.518174    69.249283   \n",
       "1/1/2014 0:05               NaN   23.606651    2.508537    69.088890   \n",
       "1/1/2014 0:10               NaN   23.528124    2.502900    69.039642   \n",
       "1/1/2014 0:15               NaN   23.647432    2.497166    69.006332   \n",
       "1/1/2014 0:20               NaN   23.664402    2.491784    68.754303   \n",
       "\n",
       "               200TI348.PV  200TI347.PV  \n",
       "DATETIME                                 \n",
       "1/1/2014 0:00    60.885456    56.545738  \n",
       "1/1/2014 0:05    60.658840    56.511757  \n",
       "1/1/2014 0:10    60.466503    56.509052  \n",
       "1/1/2014 0:15    60.593910    56.434353  \n",
       "1/1/2014 0:20    60.740746    56.482708  "
      ]
     },
     "execution_count": 14,
     "metadata": {},
     "output_type": "execute_result"
    }
   ],
   "source": [
    "df_final_nan.head()"
   ]
  },
  {
   "cell_type": "code",
   "execution_count": 15,
   "metadata": {
    "collapsed": true
   },
   "outputs": [],
   "source": [
    "df_final_nan = df_final_nan.reset_index()"
   ]
  },
  {
   "cell_type": "code",
   "execution_count": 16,
   "metadata": {
    "collapsed": false
   },
   "outputs": [
    {
     "data": {
      "text/html": [
       "<div>\n",
       "<table border=\"1\" class=\"dataframe\">\n",
       "  <thead>\n",
       "    <tr style=\"text-align: right;\">\n",
       "      <th></th>\n",
       "      <th>DATETIME</th>\n",
       "      <th>A1-200TI727HA.PV</th>\n",
       "      <th>100TI97.PV</th>\n",
       "      <th>200PI53.PV</th>\n",
       "      <th>200TI371.PV</th>\n",
       "      <th>200TI348.PV</th>\n",
       "      <th>200TI347.PV</th>\n",
       "    </tr>\n",
       "  </thead>\n",
       "  <tbody>\n",
       "    <tr>\n",
       "      <th>0</th>\n",
       "      <td>1/1/2014 0:00</td>\n",
       "      <td>NaN</td>\n",
       "      <td>23.728256</td>\n",
       "      <td>2.518174</td>\n",
       "      <td>69.249283</td>\n",
       "      <td>60.885456</td>\n",
       "      <td>56.545738</td>\n",
       "    </tr>\n",
       "    <tr>\n",
       "      <th>1</th>\n",
       "      <td>1/1/2014 0:05</td>\n",
       "      <td>NaN</td>\n",
       "      <td>23.606651</td>\n",
       "      <td>2.508537</td>\n",
       "      <td>69.088890</td>\n",
       "      <td>60.658840</td>\n",
       "      <td>56.511757</td>\n",
       "    </tr>\n",
       "    <tr>\n",
       "      <th>2</th>\n",
       "      <td>1/1/2014 0:10</td>\n",
       "      <td>NaN</td>\n",
       "      <td>23.528124</td>\n",
       "      <td>2.502900</td>\n",
       "      <td>69.039642</td>\n",
       "      <td>60.466503</td>\n",
       "      <td>56.509052</td>\n",
       "    </tr>\n",
       "    <tr>\n",
       "      <th>3</th>\n",
       "      <td>1/1/2014 0:15</td>\n",
       "      <td>NaN</td>\n",
       "      <td>23.647432</td>\n",
       "      <td>2.497166</td>\n",
       "      <td>69.006332</td>\n",
       "      <td>60.593910</td>\n",
       "      <td>56.434353</td>\n",
       "    </tr>\n",
       "    <tr>\n",
       "      <th>4</th>\n",
       "      <td>1/1/2014 0:20</td>\n",
       "      <td>NaN</td>\n",
       "      <td>23.664402</td>\n",
       "      <td>2.491784</td>\n",
       "      <td>68.754303</td>\n",
       "      <td>60.740746</td>\n",
       "      <td>56.482708</td>\n",
       "    </tr>\n",
       "  </tbody>\n",
       "</table>\n",
       "</div>"
      ],
      "text/plain": [
       "        DATETIME  A1-200TI727HA.PV  100TI97.PV  200PI53.PV  200TI371.PV  \\\n",
       "0  1/1/2014 0:00               NaN   23.728256    2.518174    69.249283   \n",
       "1  1/1/2014 0:05               NaN   23.606651    2.508537    69.088890   \n",
       "2  1/1/2014 0:10               NaN   23.528124    2.502900    69.039642   \n",
       "3  1/1/2014 0:15               NaN   23.647432    2.497166    69.006332   \n",
       "4  1/1/2014 0:20               NaN   23.664402    2.491784    68.754303   \n",
       "\n",
       "   200TI348.PV  200TI347.PV  \n",
       "0    60.885456    56.545738  \n",
       "1    60.658840    56.511757  \n",
       "2    60.466503    56.509052  \n",
       "3    60.593910    56.434353  \n",
       "4    60.740746    56.482708  "
      ]
     },
     "execution_count": 16,
     "metadata": {},
     "output_type": "execute_result"
    }
   ],
   "source": [
    "df_final_nan.head()"
   ]
  },
  {
   "cell_type": "code",
   "execution_count": 27,
   "metadata": {
    "collapsed": false
   },
   "outputs": [
    {
     "name": "stdout",
     "output_type": "stream",
     "text": [
      "<class 'pandas.core.frame.DataFrame'>\n",
      "RangeIndex: 3974 entries, 0 to 3973\n",
      "Data columns (total 7 columns):\n",
      "DATETIME            3974 non-null datetime64[ns]\n",
      "A1-200TI727HA.PV    0 non-null float64\n",
      "100TI97.PV          3974 non-null float64\n",
      "200PI53.PV          3974 non-null float64\n",
      "200TI371.PV         3974 non-null float64\n",
      "200TI348.PV         3974 non-null float64\n",
      "200TI347.PV         3974 non-null float64\n",
      "dtypes: datetime64[ns](1), float64(6)\n",
      "memory usage: 217.4 KB\n"
     ]
    }
   ],
   "source": [
    "df_final_nan.info()"
   ]
  },
  {
   "cell_type": "code",
   "execution_count": 19,
   "metadata": {
    "collapsed": true
   },
   "outputs": [],
   "source": [
    "import seaborn as sns\n",
    "from matplotlib import pyplot as plt\n",
    "%matplotlib inline"
   ]
  },
  {
   "cell_type": "code",
   "execution_count": 26,
   "metadata": {
    "collapsed": true
   },
   "outputs": [],
   "source": [
    "df_final_nan['DATETIME'] = pd.to_datetime(df_final_nan['DATETIME'])"
   ]
  },
  {
   "cell_type": "code",
   "execution_count": 28,
   "metadata": {
    "collapsed": false,
    "scrolled": false
   },
   "outputs": [
    {
     "data": {
      "text/plain": [
       "<matplotlib.axes._subplots.AxesSubplot at 0x14933cf28>"
      ]
     },
     "execution_count": 28,
     "metadata": {},
     "output_type": "execute_result"
    },
    {
     "data": {
      "image/png": "[encoded data removed]",
      "text/plain": [
       "<matplotlib.figure.Figure at 0x149345a90>"
      ]
     },
     "metadata": {},
     "output_type": "display_data"
    }
   ],
   "source": [
    "sns.tsplot(time='DATETIME', value='100TI97.PV', data=df_final_nan)"
   ]
  },
  {
   "cell_type": "code",
   "execution_count": null,
   "metadata": {
    "collapsed": false
   },
   "outputs": [],
   "source": [
    "print (\"a\")"
   ]
  }
 ],
 "metadata": {
  "anaconda-cloud": {},
  "kernelspec": {
   "display_name": "Python [default]",
   "language": "python",
   "name": "python3"
  },
  "language_info": {
   "codemirror_mode": {
    "name": "ipython",
    "version": 3
   },
   "file_extension": ".py",
   "mimetype": "text/x-python",
   "name": "python",
   "nbconvert_exporter": "python",
   "pygments_lexer": "ipython3",
   "version": "3.5.2"
  }
 },
 "nbformat": 4,
 "nbformat_minor": 1
}
