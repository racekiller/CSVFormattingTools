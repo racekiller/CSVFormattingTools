{
 "cells": [
  {
   "cell_type": "code",
   "execution_count": null,
   "metadata": {
    "collapsed": true
   },
   "outputs": [],
   "source": [
    "# latest update\n",
    "# October 1st 2017\n",
    "# Changes done by: Jimmy Vivas\n",
    "# Added code description\n",
    "\n",
    "# This code was developed by Jimmy Vivas\n",
    "\n",
    "# The code will take all CSv files from a specific directory and process them at the same Time\n",
    "# The program will need manual input to replace strings found for numeric data or null value\n",
    "#   It will assign an integer value for each distinct string for each column (sensor)\n",
    "# The code will generate as many csv files pero 1MM rows"
   ]
  },
  {
   "cell_type": "markdown",
   "metadata": {},
   "source": [
    "# STEP 1 -. Update the path where the CSV file is located and hit SHIFT + ENTER"
   ]
  },
  {
   "cell_type": "markdown",
   "metadata": {},
   "source": [
    "\n",
    "### Create two folders\n",
    "#### Folder 1 = CSVPAath1 is where the CSV file to be processed is located\n",
    "#### Folder 2 = FinalPath is where all the files processed will be created"
   ]
  },
  {
   "cell_type": "code",
   "execution_count": null,
   "metadata": {
    "collapsed": true
   },
   "outputs": [],
   "source": [
    "# Windows Path\n",
    "CSVPath1 = 'C:/Users/vivasj/Documents/Aspen/PTT GC/C002B/Data/to be processed'\n",
    "FinalPath = 'C:/Users/vivasj/Documents/Aspen/PTT GC/C002B/Data/processed'"
   ]
  },
  {
   "cell_type": "markdown",
   "metadata": {},
   "source": [
    "# STEP 2-. Execute Next line Hitting Shift+ENTER"
   ]
  },
  {
   "cell_type": "code",
   "execution_count": null,
   "metadata": {
    "collapsed": true
   },
   "outputs": [],
   "source": [
    "from utils import *"
   ]
  },
  {
   "cell_type": "code",
   "execution_count": null,
   "metadata": {},
   "outputs": [],
   "source": [
    "CSVFileList = GetCSVList(CSVPath1)\n",
    "\n",
    "CSVFile = CSVFileList[0]\n",
    "CSVFileWithPath = CSVPath1 + \"/\" + CSVFileList[0]\n",
    "\n",
    "csvFileSizeGB = GetFileSize(CSVFileWithPath)\n",
    "\n",
    "if csvFileSizeGB > 1:\n",
    "    StringListForAllSensors = SplitCSVFile_GetStrings(CSVFileWithPath, CSVFile)\n",
    "    print ('These are all the strings found in the file: ' + str(StringListForAllSensors))\n",
    "else:\n",
    "    \n",
    "    df2 = LoadCSV(CSVFileWithPath, CSVFile)\n",
    "    \n",
    "    # Rename date and time column\n",
    "    print ('Renaming date and time column')\n",
    "    RenameColumn(df2)\n",
    "    # Apply Date and time format to dataframe\n",
    "    print ('Applying date and time format')\n",
    "    ApplyDateFormat(df2)\n",
    "    \n",
    "    # Apply Index and create two dataframes\n",
    "    df2_1, df2_2 = SetIndex(df2)\n",
    "    \n",
    "    print ('Extracting strings from csv file')\n",
    "    StringListForAllSensors = ExtractStrings(df2_1, df2_2)\n",
    "    \n",
    "    print ('These are all the strings found in the csv file: ' + str(StringListForAllSensors))\n",
    "\n",
    "# Convert all strings to a Dictionary\n",
    "StringListDict = {}.fromkeys(StringListForAllSensors, 'null')\n",
    "\n",
    "# print (\"# Run following line to see the list of Strings\")\n",
    "## Copy the result and paste it in the following line of code\")\n",
    "StringListDict"
   ]
  },
  {
   "cell_type": "markdown",
   "metadata": {},
   "source": [
    "# STEP 3 -. Copy the StringListDict and replace the null with the desired numeric data"
   ]
  },
  {
   "cell_type": "code",
   "execution_count": null,
   "metadata": {},
   "outputs": [],
   "source": [
    "# Replacing known test to null\n",
    "df2_2 = ReplaceStrings(df2_2, StringListDict)\n",
    "\n",
    "# Create dataframe to export individual tags\n",
    "df_final = pd.concat([df2_1, df2_2])\n",
    "\n",
    "# Export Individual Tags to CSV\n",
    "print(\"Creating CSV per TagName\")\n",
    "ExportTagNamesToCSV(df_final,FinalPath)\n",
    "\n",
    "# Merge dataframes to export to CSV\n",
    "mdf = FormatToPrevise(df2_1,df2_2)\n",
    "\n",
    "# Check format data to be exportedaa\n",
    "mdf.head(25)\n",
    "\n",
    "# Export to CSV\n",
    "print ('Creating CSVs to be imported into Aspen Mtell')\n",
    "SplitPreviseFormatCSVFile(mdf,CSVFileList,FinalPath)"
   ]
  },
  {
   "cell_type": "code",
   "execution_count": 1,
   "metadata": {
    "collapsed": true
   },
   "outputs": [],
   "source": [
    "import seaborn as sns\n",
    "%matplotlib inline"
   ]
  }
 ],
 "metadata": {
  "anaconda-cloud": {},
  "kernelspec": {
   "display_name": "Python 3",
   "language": "python",
   "name": "python3"
  },
  "language_info": {
   "codemirror_mode": {
    "name": "ipython",
    "version": 3
   },
   "file_extension": ".py",
   "mimetype": "text/x-python",
   "name": "python",
   "nbconvert_exporter": "python",
   "pygments_lexer": "ipython3",
   "version": "3.6.1"
  }
 },
 "nbformat": 4,
 "nbformat_minor": 1
}
